{
 "cells": [
  {
   "cell_type": "code",
   "execution_count": 1,
   "metadata": {},
   "outputs": [],
   "source": [
    "import pandas as pd\n",
    "import numpy as np\n",
    "import string"
   ]
  },
  {
   "cell_type": "code",
   "execution_count": 2,
   "metadata": {},
   "outputs": [],
   "source": [
    "df=pd.read_csv('SCMS_Delivery_History_Dataset.csv')"
   ]
  },
  {
   "cell_type": "code",
   "execution_count": 3,
   "metadata": {},
   "outputs": [
    {
     "data": {
      "text/html": [
       "<div>\n",
       "<style scoped>\n",
       "    .dataframe tbody tr th:only-of-type {\n",
       "        vertical-align: middle;\n",
       "    }\n",
       "\n",
       "    .dataframe tbody tr th {\n",
       "        vertical-align: top;\n",
       "    }\n",
       "\n",
       "    .dataframe thead th {\n",
       "        text-align: right;\n",
       "    }\n",
       "</style>\n",
       "<table border=\"1\" class=\"dataframe\">\n",
       "  <thead>\n",
       "    <tr style=\"text-align: right;\">\n",
       "      <th></th>\n",
       "      <th>ID</th>\n",
       "      <th>Project Code</th>\n",
       "      <th>PQ #</th>\n",
       "      <th>PO / SO #</th>\n",
       "      <th>ASN/DN #</th>\n",
       "      <th>Country</th>\n",
       "      <th>Managed By</th>\n",
       "      <th>Fulfill Via</th>\n",
       "      <th>Vendor INCO Term</th>\n",
       "      <th>Shipment Mode</th>\n",
       "      <th>...</th>\n",
       "      <th>Unit of Measure (Per Pack)</th>\n",
       "      <th>Line Item Quantity</th>\n",
       "      <th>Line Item Value</th>\n",
       "      <th>Pack Price</th>\n",
       "      <th>Unit Price</th>\n",
       "      <th>Manufacturing Site</th>\n",
       "      <th>First Line Designation</th>\n",
       "      <th>Weight (Kilograms)</th>\n",
       "      <th>Freight Cost (USD)</th>\n",
       "      <th>Line Item Insurance (USD)</th>\n",
       "    </tr>\n",
       "  </thead>\n",
       "  <tbody>\n",
       "    <tr>\n",
       "      <th>0</th>\n",
       "      <td>1</td>\n",
       "      <td>100-CI-T01</td>\n",
       "      <td>Pre-PQ Process</td>\n",
       "      <td>SCMS-4</td>\n",
       "      <td>ASN-8</td>\n",
       "      <td>Côte d'Ivoire</td>\n",
       "      <td>PMO - US</td>\n",
       "      <td>Direct Drop</td>\n",
       "      <td>EXW</td>\n",
       "      <td>Air</td>\n",
       "      <td>...</td>\n",
       "      <td>30</td>\n",
       "      <td>19</td>\n",
       "      <td>551.0</td>\n",
       "      <td>29.00</td>\n",
       "      <td>0.97</td>\n",
       "      <td>Ranbaxy Fine Chemicals LTD</td>\n",
       "      <td>Yes</td>\n",
       "      <td>13</td>\n",
       "      <td>780.34</td>\n",
       "      <td>NaN</td>\n",
       "    </tr>\n",
       "    <tr>\n",
       "      <th>1</th>\n",
       "      <td>3</td>\n",
       "      <td>108-VN-T01</td>\n",
       "      <td>Pre-PQ Process</td>\n",
       "      <td>SCMS-13</td>\n",
       "      <td>ASN-85</td>\n",
       "      <td>Vietnam</td>\n",
       "      <td>PMO - US</td>\n",
       "      <td>Direct Drop</td>\n",
       "      <td>EXW</td>\n",
       "      <td>Air</td>\n",
       "      <td>...</td>\n",
       "      <td>240</td>\n",
       "      <td>1000</td>\n",
       "      <td>6200.0</td>\n",
       "      <td>6.20</td>\n",
       "      <td>0.03</td>\n",
       "      <td>Aurobindo Unit III, India</td>\n",
       "      <td>Yes</td>\n",
       "      <td>358</td>\n",
       "      <td>4521.5</td>\n",
       "      <td>NaN</td>\n",
       "    </tr>\n",
       "    <tr>\n",
       "      <th>2</th>\n",
       "      <td>4</td>\n",
       "      <td>100-CI-T01</td>\n",
       "      <td>Pre-PQ Process</td>\n",
       "      <td>SCMS-20</td>\n",
       "      <td>ASN-14</td>\n",
       "      <td>Côte d'Ivoire</td>\n",
       "      <td>PMO - US</td>\n",
       "      <td>Direct Drop</td>\n",
       "      <td>FCA</td>\n",
       "      <td>Air</td>\n",
       "      <td>...</td>\n",
       "      <td>100</td>\n",
       "      <td>500</td>\n",
       "      <td>40000.0</td>\n",
       "      <td>80.00</td>\n",
       "      <td>0.80</td>\n",
       "      <td>ABBVIE GmbH &amp; Co.KG Wiesbaden</td>\n",
       "      <td>Yes</td>\n",
       "      <td>171</td>\n",
       "      <td>1653.78</td>\n",
       "      <td>NaN</td>\n",
       "    </tr>\n",
       "    <tr>\n",
       "      <th>3</th>\n",
       "      <td>15</td>\n",
       "      <td>108-VN-T01</td>\n",
       "      <td>Pre-PQ Process</td>\n",
       "      <td>SCMS-78</td>\n",
       "      <td>ASN-50</td>\n",
       "      <td>Vietnam</td>\n",
       "      <td>PMO - US</td>\n",
       "      <td>Direct Drop</td>\n",
       "      <td>EXW</td>\n",
       "      <td>Air</td>\n",
       "      <td>...</td>\n",
       "      <td>60</td>\n",
       "      <td>31920</td>\n",
       "      <td>127360.8</td>\n",
       "      <td>3.99</td>\n",
       "      <td>0.07</td>\n",
       "      <td>Ranbaxy, Paonta Shahib, India</td>\n",
       "      <td>Yes</td>\n",
       "      <td>1855</td>\n",
       "      <td>16007.06</td>\n",
       "      <td>NaN</td>\n",
       "    </tr>\n",
       "    <tr>\n",
       "      <th>4</th>\n",
       "      <td>16</td>\n",
       "      <td>108-VN-T01</td>\n",
       "      <td>Pre-PQ Process</td>\n",
       "      <td>SCMS-81</td>\n",
       "      <td>ASN-55</td>\n",
       "      <td>Vietnam</td>\n",
       "      <td>PMO - US</td>\n",
       "      <td>Direct Drop</td>\n",
       "      <td>EXW</td>\n",
       "      <td>Air</td>\n",
       "      <td>...</td>\n",
       "      <td>60</td>\n",
       "      <td>38000</td>\n",
       "      <td>121600.0</td>\n",
       "      <td>3.20</td>\n",
       "      <td>0.05</td>\n",
       "      <td>Aurobindo Unit III, India</td>\n",
       "      <td>Yes</td>\n",
       "      <td>7590</td>\n",
       "      <td>45450.08</td>\n",
       "      <td>NaN</td>\n",
       "    </tr>\n",
       "  </tbody>\n",
       "</table>\n",
       "<p>5 rows × 33 columns</p>\n",
       "</div>"
      ],
      "text/plain": [
       "   ID Project Code            PQ # PO / SO # ASN/DN #        Country  \\\n",
       "0   1   100-CI-T01  Pre-PQ Process    SCMS-4    ASN-8  Côte d'Ivoire   \n",
       "1   3   108-VN-T01  Pre-PQ Process   SCMS-13   ASN-85        Vietnam   \n",
       "2   4   100-CI-T01  Pre-PQ Process   SCMS-20   ASN-14  Côte d'Ivoire   \n",
       "3  15   108-VN-T01  Pre-PQ Process   SCMS-78   ASN-50        Vietnam   \n",
       "4  16   108-VN-T01  Pre-PQ Process   SCMS-81   ASN-55        Vietnam   \n",
       "\n",
       "  Managed By  Fulfill Via Vendor INCO Term Shipment Mode  ...  \\\n",
       "0   PMO - US  Direct Drop              EXW           Air  ...   \n",
       "1   PMO - US  Direct Drop              EXW           Air  ...   \n",
       "2   PMO - US  Direct Drop              FCA           Air  ...   \n",
       "3   PMO - US  Direct Drop              EXW           Air  ...   \n",
       "4   PMO - US  Direct Drop              EXW           Air  ...   \n",
       "\n",
       "  Unit of Measure (Per Pack) Line Item Quantity Line Item Value Pack Price  \\\n",
       "0                         30                 19           551.0      29.00   \n",
       "1                        240               1000          6200.0       6.20   \n",
       "2                        100                500         40000.0      80.00   \n",
       "3                         60              31920        127360.8       3.99   \n",
       "4                         60              38000        121600.0       3.20   \n",
       "\n",
       "  Unit Price             Manufacturing Site First Line Designation  \\\n",
       "0       0.97     Ranbaxy Fine Chemicals LTD                    Yes   \n",
       "1       0.03      Aurobindo Unit III, India                    Yes   \n",
       "2       0.80  ABBVIE GmbH & Co.KG Wiesbaden                    Yes   \n",
       "3       0.07  Ranbaxy, Paonta Shahib, India                    Yes   \n",
       "4       0.05      Aurobindo Unit III, India                    Yes   \n",
       "\n",
       "  Weight (Kilograms) Freight Cost (USD) Line Item Insurance (USD)  \n",
       "0                 13             780.34                       NaN  \n",
       "1                358             4521.5                       NaN  \n",
       "2                171            1653.78                       NaN  \n",
       "3               1855           16007.06                       NaN  \n",
       "4               7590           45450.08                       NaN  \n",
       "\n",
       "[5 rows x 33 columns]"
      ]
     },
     "execution_count": 3,
     "metadata": {},
     "output_type": "execute_result"
    }
   ],
   "source": [
    "df.head()"
   ]
  },
  {
   "cell_type": "code",
   "execution_count": 4,
   "metadata": {},
   "outputs": [
    {
     "data": {
      "text/html": [
       "<div>\n",
       "<style scoped>\n",
       "    .dataframe tbody tr th:only-of-type {\n",
       "        vertical-align: middle;\n",
       "    }\n",
       "\n",
       "    .dataframe tbody tr th {\n",
       "        vertical-align: top;\n",
       "    }\n",
       "\n",
       "    .dataframe thead th {\n",
       "        text-align: right;\n",
       "    }\n",
       "</style>\n",
       "<table border=\"1\" class=\"dataframe\">\n",
       "  <thead>\n",
       "    <tr style=\"text-align: right;\">\n",
       "      <th></th>\n",
       "      <th>ID</th>\n",
       "      <th>Unit of Measure (Per Pack)</th>\n",
       "      <th>Line Item Quantity</th>\n",
       "      <th>Line Item Value</th>\n",
       "      <th>Pack Price</th>\n",
       "      <th>Unit Price</th>\n",
       "      <th>Line Item Insurance (USD)</th>\n",
       "    </tr>\n",
       "  </thead>\n",
       "  <tbody>\n",
       "    <tr>\n",
       "      <th>count</th>\n",
       "      <td>10324.000000</td>\n",
       "      <td>10324.000000</td>\n",
       "      <td>10324.000000</td>\n",
       "      <td>1.032400e+04</td>\n",
       "      <td>10324.000000</td>\n",
       "      <td>10324.000000</td>\n",
       "      <td>10037.000000</td>\n",
       "    </tr>\n",
       "    <tr>\n",
       "      <th>mean</th>\n",
       "      <td>51098.968229</td>\n",
       "      <td>77.990895</td>\n",
       "      <td>18332.534870</td>\n",
       "      <td>1.576506e+05</td>\n",
       "      <td>21.910241</td>\n",
       "      <td>0.611701</td>\n",
       "      <td>240.117626</td>\n",
       "    </tr>\n",
       "    <tr>\n",
       "      <th>std</th>\n",
       "      <td>31944.332496</td>\n",
       "      <td>76.579764</td>\n",
       "      <td>40035.302961</td>\n",
       "      <td>3.452921e+05</td>\n",
       "      <td>45.609223</td>\n",
       "      <td>3.275808</td>\n",
       "      <td>500.190568</td>\n",
       "    </tr>\n",
       "    <tr>\n",
       "      <th>min</th>\n",
       "      <td>1.000000</td>\n",
       "      <td>1.000000</td>\n",
       "      <td>1.000000</td>\n",
       "      <td>0.000000e+00</td>\n",
       "      <td>0.000000</td>\n",
       "      <td>0.000000</td>\n",
       "      <td>0.000000</td>\n",
       "    </tr>\n",
       "    <tr>\n",
       "      <th>25%</th>\n",
       "      <td>12795.750000</td>\n",
       "      <td>30.000000</td>\n",
       "      <td>408.000000</td>\n",
       "      <td>4.314593e+03</td>\n",
       "      <td>4.120000</td>\n",
       "      <td>0.080000</td>\n",
       "      <td>6.510000</td>\n",
       "    </tr>\n",
       "    <tr>\n",
       "      <th>50%</th>\n",
       "      <td>57540.500000</td>\n",
       "      <td>60.000000</td>\n",
       "      <td>3000.000000</td>\n",
       "      <td>3.047147e+04</td>\n",
       "      <td>9.300000</td>\n",
       "      <td>0.160000</td>\n",
       "      <td>47.040000</td>\n",
       "    </tr>\n",
       "    <tr>\n",
       "      <th>75%</th>\n",
       "      <td>83648.250000</td>\n",
       "      <td>90.000000</td>\n",
       "      <td>17039.750000</td>\n",
       "      <td>1.664471e+05</td>\n",
       "      <td>23.592500</td>\n",
       "      <td>0.470000</td>\n",
       "      <td>252.400000</td>\n",
       "    </tr>\n",
       "    <tr>\n",
       "      <th>max</th>\n",
       "      <td>86823.000000</td>\n",
       "      <td>1000.000000</td>\n",
       "      <td>619999.000000</td>\n",
       "      <td>5.951990e+06</td>\n",
       "      <td>1345.640000</td>\n",
       "      <td>238.650000</td>\n",
       "      <td>7708.440000</td>\n",
       "    </tr>\n",
       "  </tbody>\n",
       "</table>\n",
       "</div>"
      ],
      "text/plain": [
       "                 ID  Unit of Measure (Per Pack)  Line Item Quantity  \\\n",
       "count  10324.000000                10324.000000        10324.000000   \n",
       "mean   51098.968229                   77.990895        18332.534870   \n",
       "std    31944.332496                   76.579764        40035.302961   \n",
       "min        1.000000                    1.000000            1.000000   \n",
       "25%    12795.750000                   30.000000          408.000000   \n",
       "50%    57540.500000                   60.000000         3000.000000   \n",
       "75%    83648.250000                   90.000000        17039.750000   \n",
       "max    86823.000000                 1000.000000       619999.000000   \n",
       "\n",
       "       Line Item Value    Pack Price    Unit Price  Line Item Insurance (USD)  \n",
       "count     1.032400e+04  10324.000000  10324.000000               10037.000000  \n",
       "mean      1.576506e+05     21.910241      0.611701                 240.117626  \n",
       "std       3.452921e+05     45.609223      3.275808                 500.190568  \n",
       "min       0.000000e+00      0.000000      0.000000                   0.000000  \n",
       "25%       4.314593e+03      4.120000      0.080000                   6.510000  \n",
       "50%       3.047147e+04      9.300000      0.160000                  47.040000  \n",
       "75%       1.664471e+05     23.592500      0.470000                 252.400000  \n",
       "max       5.951990e+06   1345.640000    238.650000                7708.440000  "
      ]
     },
     "execution_count": 4,
     "metadata": {},
     "output_type": "execute_result"
    }
   ],
   "source": [
    "df.describe()"
   ]
  },
  {
   "cell_type": "code",
   "execution_count": 5,
   "metadata": {
    "scrolled": true
   },
   "outputs": [
    {
     "name": "stdout",
     "output_type": "stream",
     "text": [
      "<class 'pandas.core.frame.DataFrame'>\n",
      "RangeIndex: 10324 entries, 0 to 10323\n",
      "Data columns (total 33 columns):\n",
      " #   Column                        Non-Null Count  Dtype  \n",
      "---  ------                        --------------  -----  \n",
      " 0   ID                            10324 non-null  int64  \n",
      " 1   Project Code                  10324 non-null  object \n",
      " 2   PQ #                          10324 non-null  object \n",
      " 3   PO / SO #                     10324 non-null  object \n",
      " 4   ASN/DN #                      10324 non-null  object \n",
      " 5   Country                       10324 non-null  object \n",
      " 6   Managed By                    10324 non-null  object \n",
      " 7   Fulfill Via                   10324 non-null  object \n",
      " 8   Vendor INCO Term              10324 non-null  object \n",
      " 9   Shipment Mode                 9964 non-null   object \n",
      " 10  PQ First Sent to Client Date  10324 non-null  object \n",
      " 11  PO Sent to Vendor Date        10324 non-null  object \n",
      " 12  Scheduled Delivery Date       10324 non-null  object \n",
      " 13  Delivered to Client Date      10324 non-null  object \n",
      " 14  Delivery Recorded Date        10324 non-null  object \n",
      " 15  Product Group                 10324 non-null  object \n",
      " 16  Sub Classification            10324 non-null  object \n",
      " 17  Vendor                        10324 non-null  object \n",
      " 18  Item Description              10324 non-null  object \n",
      " 19  Molecule/Test Type            10324 non-null  object \n",
      " 20  Brand                         10324 non-null  object \n",
      " 21  Dosage                        8588 non-null   object \n",
      " 22  Dosage Form                   10324 non-null  object \n",
      " 23  Unit of Measure (Per Pack)    10324 non-null  int64  \n",
      " 24  Line Item Quantity            10324 non-null  int64  \n",
      " 25  Line Item Value               10324 non-null  float64\n",
      " 26  Pack Price                    10324 non-null  float64\n",
      " 27  Unit Price                    10324 non-null  float64\n",
      " 28  Manufacturing Site            10324 non-null  object \n",
      " 29  First Line Designation        10324 non-null  object \n",
      " 30  Weight (Kilograms)            10324 non-null  object \n",
      " 31  Freight Cost (USD)            10324 non-null  object \n",
      " 32  Line Item Insurance (USD)     10037 non-null  float64\n",
      "dtypes: float64(4), int64(3), object(26)\n",
      "memory usage: 2.6+ MB\n"
     ]
    }
   ],
   "source": [
    "df.info()"
   ]
  },
  {
   "cell_type": "code",
   "execution_count": 6,
   "metadata": {},
   "outputs": [
    {
     "data": {
      "text/plain": [
       "ID                                 0\n",
       "Project Code                       0\n",
       "PQ #                               0\n",
       "PO / SO #                          0\n",
       "ASN/DN #                           0\n",
       "Country                            0\n",
       "Managed By                         0\n",
       "Fulfill Via                        0\n",
       "Vendor INCO Term                   0\n",
       "Shipment Mode                    360\n",
       "PQ First Sent to Client Date       0\n",
       "PO Sent to Vendor Date             0\n",
       "Scheduled Delivery Date            0\n",
       "Delivered to Client Date           0\n",
       "Delivery Recorded Date             0\n",
       "Product Group                      0\n",
       "Sub Classification                 0\n",
       "Vendor                             0\n",
       "Item Description                   0\n",
       "Molecule/Test Type                 0\n",
       "Brand                              0\n",
       "Dosage                          1736\n",
       "Dosage Form                        0\n",
       "Unit of Measure (Per Pack)         0\n",
       "Line Item Quantity                 0\n",
       "Line Item Value                    0\n",
       "Pack Price                         0\n",
       "Unit Price                         0\n",
       "Manufacturing Site                 0\n",
       "First Line Designation             0\n",
       "Weight (Kilograms)                 0\n",
       "Freight Cost (USD)                 0\n",
       "Line Item Insurance (USD)        287\n",
       "dtype: int64"
      ]
     },
     "execution_count": 6,
     "metadata": {},
     "output_type": "execute_result"
    }
   ],
   "source": [
    "df.isna().sum()"
   ]
  },
  {
   "cell_type": "code",
   "execution_count": 7,
   "metadata": {},
   "outputs": [
    {
     "data": {
      "text/plain": [
       "0    240.12\n",
       "1    240.12\n",
       "2    240.12\n",
       "3    240.12\n",
       "4    240.12\n",
       "Name: Line Item Insurance (USD), dtype: float64"
      ]
     },
     "execution_count": 7,
     "metadata": {},
     "output_type": "execute_result"
    }
   ],
   "source": [
    "#print(round(df['Line Item Insurance (USD)'].mean(),2))\n",
    "\n",
    "df['Line Item Insurance (USD)'] = df['Line Item Insurance (USD)'].fillna(value=round(df['Line Item Insurance (USD)'].mean(),2))\n",
    "df['Line Item Insurance (USD)'].head()"
   ]
  },
  {
   "cell_type": "code",
   "execution_count": 8,
   "metadata": {},
   "outputs": [
    {
     "data": {
      "text/html": [
       "<div>\n",
       "<style scoped>\n",
       "    .dataframe tbody tr th:only-of-type {\n",
       "        vertical-align: middle;\n",
       "    }\n",
       "\n",
       "    .dataframe tbody tr th {\n",
       "        vertical-align: top;\n",
       "    }\n",
       "\n",
       "    .dataframe thead th {\n",
       "        text-align: right;\n",
       "    }\n",
       "</style>\n",
       "<table border=\"1\" class=\"dataframe\">\n",
       "  <thead>\n",
       "    <tr style=\"text-align: right;\">\n",
       "      <th></th>\n",
       "      <th>ID</th>\n",
       "      <th>Unit of Measure (Per Pack)</th>\n",
       "      <th>Line Item Quantity</th>\n",
       "      <th>Line Item Value</th>\n",
       "      <th>Pack Price</th>\n",
       "      <th>Unit Price</th>\n",
       "      <th>Line Item Insurance (USD)</th>\n",
       "    </tr>\n",
       "  </thead>\n",
       "  <tbody>\n",
       "    <tr>\n",
       "      <th>count</th>\n",
       "      <td>10324.000000</td>\n",
       "      <td>10324.000000</td>\n",
       "      <td>10324.000000</td>\n",
       "      <td>1.032400e+04</td>\n",
       "      <td>10324.000000</td>\n",
       "      <td>10324.000000</td>\n",
       "      <td>10324.000000</td>\n",
       "    </tr>\n",
       "    <tr>\n",
       "      <th>mean</th>\n",
       "      <td>51098.968229</td>\n",
       "      <td>77.990895</td>\n",
       "      <td>18332.534870</td>\n",
       "      <td>1.576506e+05</td>\n",
       "      <td>21.910241</td>\n",
       "      <td>0.611701</td>\n",
       "      <td>240.117692</td>\n",
       "    </tr>\n",
       "    <tr>\n",
       "      <th>std</th>\n",
       "      <td>31944.332496</td>\n",
       "      <td>76.579764</td>\n",
       "      <td>40035.302961</td>\n",
       "      <td>3.452921e+05</td>\n",
       "      <td>45.609223</td>\n",
       "      <td>3.275808</td>\n",
       "      <td>493.188408</td>\n",
       "    </tr>\n",
       "    <tr>\n",
       "      <th>min</th>\n",
       "      <td>1.000000</td>\n",
       "      <td>1.000000</td>\n",
       "      <td>1.000000</td>\n",
       "      <td>0.000000e+00</td>\n",
       "      <td>0.000000</td>\n",
       "      <td>0.000000</td>\n",
       "      <td>0.000000</td>\n",
       "    </tr>\n",
       "    <tr>\n",
       "      <th>25%</th>\n",
       "      <td>12795.750000</td>\n",
       "      <td>30.000000</td>\n",
       "      <td>408.000000</td>\n",
       "      <td>4.314593e+03</td>\n",
       "      <td>4.120000</td>\n",
       "      <td>0.080000</td>\n",
       "      <td>7.030000</td>\n",
       "    </tr>\n",
       "    <tr>\n",
       "      <th>50%</th>\n",
       "      <td>57540.500000</td>\n",
       "      <td>60.000000</td>\n",
       "      <td>3000.000000</td>\n",
       "      <td>3.047147e+04</td>\n",
       "      <td>9.300000</td>\n",
       "      <td>0.160000</td>\n",
       "      <td>52.940000</td>\n",
       "    </tr>\n",
       "    <tr>\n",
       "      <th>75%</th>\n",
       "      <td>83648.250000</td>\n",
       "      <td>90.000000</td>\n",
       "      <td>17039.750000</td>\n",
       "      <td>1.664471e+05</td>\n",
       "      <td>23.592500</td>\n",
       "      <td>0.470000</td>\n",
       "      <td>241.750000</td>\n",
       "    </tr>\n",
       "    <tr>\n",
       "      <th>max</th>\n",
       "      <td>86823.000000</td>\n",
       "      <td>1000.000000</td>\n",
       "      <td>619999.000000</td>\n",
       "      <td>5.951990e+06</td>\n",
       "      <td>1345.640000</td>\n",
       "      <td>238.650000</td>\n",
       "      <td>7708.440000</td>\n",
       "    </tr>\n",
       "  </tbody>\n",
       "</table>\n",
       "</div>"
      ],
      "text/plain": [
       "                 ID  Unit of Measure (Per Pack)  Line Item Quantity  \\\n",
       "count  10324.000000                10324.000000        10324.000000   \n",
       "mean   51098.968229                   77.990895        18332.534870   \n",
       "std    31944.332496                   76.579764        40035.302961   \n",
       "min        1.000000                    1.000000            1.000000   \n",
       "25%    12795.750000                   30.000000          408.000000   \n",
       "50%    57540.500000                   60.000000         3000.000000   \n",
       "75%    83648.250000                   90.000000        17039.750000   \n",
       "max    86823.000000                 1000.000000       619999.000000   \n",
       "\n",
       "       Line Item Value    Pack Price    Unit Price  Line Item Insurance (USD)  \n",
       "count     1.032400e+04  10324.000000  10324.000000               10324.000000  \n",
       "mean      1.576506e+05     21.910241      0.611701                 240.117692  \n",
       "std       3.452921e+05     45.609223      3.275808                 493.188408  \n",
       "min       0.000000e+00      0.000000      0.000000                   0.000000  \n",
       "25%       4.314593e+03      4.120000      0.080000                   7.030000  \n",
       "50%       3.047147e+04      9.300000      0.160000                  52.940000  \n",
       "75%       1.664471e+05     23.592500      0.470000                 241.750000  \n",
       "max       5.951990e+06   1345.640000    238.650000                7708.440000  "
      ]
     },
     "execution_count": 8,
     "metadata": {},
     "output_type": "execute_result"
    }
   ],
   "source": [
    "df.describe()"
   ]
  },
  {
   "cell_type": "markdown",
   "metadata": {},
   "source": [
    "# Working on variable: Weight (kilograms)"
   ]
  },
  {
   "cell_type": "code",
   "execution_count": 9,
   "metadata": {},
   "outputs": [],
   "source": [
    "#For Weight (kilograms)\n",
    "for i in range(len(df)):\n",
    "    x = df.iloc[i,-3:-2].values\n",
    "    if x[0].isnumeric():\n",
    "        df.iloc[i,-3:-2] = float(x[0])\n",
    "    else:\n",
    "        df.iloc[i,-3:-2] = np.nan"
   ]
  },
  {
   "cell_type": "code",
   "execution_count": 10,
   "metadata": {},
   "outputs": [
    {
     "data": {
      "text/plain": [
       "3952"
      ]
     },
     "execution_count": 10,
     "metadata": {},
     "output_type": "execute_result"
    }
   ],
   "source": [
    "df['Weight (Kilograms)'].isna().sum()"
   ]
  },
  {
   "cell_type": "code",
   "execution_count": 11,
   "metadata": {},
   "outputs": [
    {
     "data": {
      "text/plain": [
       "10319    3424.44\n",
       "10320    3424.44\n",
       "10321    3424.44\n",
       "10322    1392.00\n",
       "10323    3424.44\n",
       "Name: Weight (Kilograms), dtype: float64"
      ]
     },
     "execution_count": 11,
     "metadata": {},
     "output_type": "execute_result"
    }
   ],
   "source": [
    "df['Weight (Kilograms)'] = df['Weight (Kilograms)'].fillna(value=round(df['Weight (Kilograms)'].mean(),2))\n",
    "df['Weight (Kilograms)'].tail()"
   ]
  },
  {
   "cell_type": "markdown",
   "metadata": {},
   "source": [
    "# Working on Variable: Freight Cost"
   ]
  },
  {
   "cell_type": "code",
   "execution_count": 12,
   "metadata": {},
   "outputs": [
    {
     "data": {
      "text/plain": [
       "Freight Cost (USD)    Freight Included in Commodity Cost\n",
       "Name: 10323, dtype: object"
      ]
     },
     "execution_count": 12,
     "metadata": {},
     "output_type": "execute_result"
    }
   ],
   "source": [
    "df.iloc[i,-2:-1]"
   ]
  },
  {
   "cell_type": "code",
   "execution_count": 13,
   "metadata": {},
   "outputs": [],
   "source": [
    "#For Freight Cost (USD)\n",
    "for i in range(len(df)):\n",
    "    x = df.iloc[i,-2:-1].values\n",
    "    try:\n",
    "        x[0]= float(x[0])   \n",
    "    except:\n",
    "        x[0] = np.nan\n",
    "    df.iloc[i,-2:-1] = x[0]"
   ]
  },
  {
   "cell_type": "code",
   "execution_count": 14,
   "metadata": {},
   "outputs": [
    {
     "data": {
      "text/plain": [
       "10319    11103.23\n",
       "10320    11103.23\n",
       "10321    11103.23\n",
       "10322    11103.23\n",
       "10323    11103.23\n",
       "Name: Freight Cost (USD), dtype: float64"
      ]
     },
     "execution_count": 14,
     "metadata": {},
     "output_type": "execute_result"
    }
   ],
   "source": [
    "df['Freight Cost (USD)'] = df['Freight Cost (USD)'].fillna(value=round(df['Freight Cost (USD)'].mean(),2))\n",
    "df['Freight Cost (USD)'].tail()"
   ]
  },
  {
   "cell_type": "markdown",
   "metadata": {},
   "source": [
    "# Working on Variable:Dosage "
   ]
  },
  {
   "cell_type": "code",
   "execution_count": 15,
   "metadata": {},
   "outputs": [
    {
     "data": {
      "text/plain": [
       "0        NaN\n",
       "1    10mg/ml\n",
       "2        NaN\n",
       "3      150mg\n",
       "4       30mg\n",
       "Name: Dosage, dtype: object"
      ]
     },
     "execution_count": 15,
     "metadata": {},
     "output_type": "execute_result"
    }
   ],
   "source": [
    "#Dosage\n",
    "df['Dosage'].head()"
   ]
  },
  {
   "cell_type": "code",
   "execution_count": 16,
   "metadata": {},
   "outputs": [
    {
     "name": "stdout",
     "output_type": "stream",
     "text": [
      "0                  NaN\n",
      "1              10mg/ml\n",
      "2                  NaN\n",
      "3                150mg\n",
      "4                 30mg\n",
      "             ...      \n",
      "10319       30/50/60mg\n",
      "10320        150/300mg\n",
      "10321    600/300/300mg\n",
      "10322        150/300mg\n",
      "10323          30/60mg\n",
      "Name: Dosage, Length: 10324, dtype: object\n"
     ]
    }
   ],
   "source": [
    "print(df.Dosage)"
   ]
  },
  {
   "cell_type": "markdown",
   "metadata": {},
   "source": [
    "# Working with dates"
   ]
  },
  {
   "cell_type": "code",
   "execution_count": 17,
   "metadata": {},
   "outputs": [
    {
     "data": {
      "text/plain": [
       "0     2-Jun-06\n",
       "1    14-Nov-06\n",
       "2    27-Aug-06\n",
       "3     1-Sep-06\n",
       "4    11-Aug-06\n",
       "Name: Scheduled Delivery Date, dtype: object"
      ]
     },
     "execution_count": 17,
     "metadata": {},
     "output_type": "execute_result"
    }
   ],
   "source": [
    "df['Scheduled Delivery Date'].head()"
   ]
  },
  {
   "cell_type": "code",
   "execution_count": 18,
   "metadata": {},
   "outputs": [],
   "source": [
    "import datetime as dt \n",
    "# #from datetime import datetime\n",
    "# pd.datetime(df['Scheduled Delivery Date'],format='%d-%b-%y',)\n",
    "#df['Scheduled Delivery Date'] = df['Scheduled Delivery Date'].apply(lambda x: dt.datetime.strptime(x,'%d-%b-%y'))\n",
    "#df['Scheduled Delivery Date'].head()"
   ]
  },
  {
   "cell_type": "code",
   "execution_count": 19,
   "metadata": {},
   "outputs": [],
   "source": [
    "data = df[['Freight Cost (USD)','Weight (Kilograms)','Unit Price','Pack Price','Brand','Vendor','Shipment Mode','Country']].copy()"
   ]
  },
  {
   "cell_type": "code",
   "execution_count": 20,
   "metadata": {},
   "outputs": [
    {
     "data": {
      "text/html": [
       "<div>\n",
       "<style scoped>\n",
       "    .dataframe tbody tr th:only-of-type {\n",
       "        vertical-align: middle;\n",
       "    }\n",
       "\n",
       "    .dataframe tbody tr th {\n",
       "        vertical-align: top;\n",
       "    }\n",
       "\n",
       "    .dataframe thead th {\n",
       "        text-align: right;\n",
       "    }\n",
       "</style>\n",
       "<table border=\"1\" class=\"dataframe\">\n",
       "  <thead>\n",
       "    <tr style=\"text-align: right;\">\n",
       "      <th></th>\n",
       "      <th>Freight Cost (USD)</th>\n",
       "      <th>Weight (Kilograms)</th>\n",
       "      <th>Unit Price</th>\n",
       "      <th>Pack Price</th>\n",
       "      <th>Brand</th>\n",
       "      <th>Vendor</th>\n",
       "      <th>Shipment Mode</th>\n",
       "      <th>Country</th>\n",
       "    </tr>\n",
       "  </thead>\n",
       "  <tbody>\n",
       "    <tr>\n",
       "      <th>0</th>\n",
       "      <td>780.34</td>\n",
       "      <td>13.0</td>\n",
       "      <td>0.97</td>\n",
       "      <td>29.00</td>\n",
       "      <td>Reveal</td>\n",
       "      <td>RANBAXY Fine Chemicals LTD.</td>\n",
       "      <td>Air</td>\n",
       "      <td>Côte d'Ivoire</td>\n",
       "    </tr>\n",
       "    <tr>\n",
       "      <th>1</th>\n",
       "      <td>4521.50</td>\n",
       "      <td>358.0</td>\n",
       "      <td>0.03</td>\n",
       "      <td>6.20</td>\n",
       "      <td>Generic</td>\n",
       "      <td>Aurobindo Pharma Limited</td>\n",
       "      <td>Air</td>\n",
       "      <td>Vietnam</td>\n",
       "    </tr>\n",
       "    <tr>\n",
       "      <th>2</th>\n",
       "      <td>1653.78</td>\n",
       "      <td>171.0</td>\n",
       "      <td>0.80</td>\n",
       "      <td>80.00</td>\n",
       "      <td>Determine</td>\n",
       "      <td>Abbott GmbH &amp; Co. KG</td>\n",
       "      <td>Air</td>\n",
       "      <td>Côte d'Ivoire</td>\n",
       "    </tr>\n",
       "    <tr>\n",
       "      <th>3</th>\n",
       "      <td>16007.06</td>\n",
       "      <td>1855.0</td>\n",
       "      <td>0.07</td>\n",
       "      <td>3.99</td>\n",
       "      <td>Generic</td>\n",
       "      <td>SUN PHARMACEUTICAL INDUSTRIES LTD (RANBAXY LAB...</td>\n",
       "      <td>Air</td>\n",
       "      <td>Vietnam</td>\n",
       "    </tr>\n",
       "    <tr>\n",
       "      <th>4</th>\n",
       "      <td>45450.08</td>\n",
       "      <td>7590.0</td>\n",
       "      <td>0.05</td>\n",
       "      <td>3.20</td>\n",
       "      <td>Generic</td>\n",
       "      <td>Aurobindo Pharma Limited</td>\n",
       "      <td>Air</td>\n",
       "      <td>Vietnam</td>\n",
       "    </tr>\n",
       "  </tbody>\n",
       "</table>\n",
       "</div>"
      ],
      "text/plain": [
       "   Freight Cost (USD)  Weight (Kilograms)  Unit Price  Pack Price      Brand  \\\n",
       "0              780.34                13.0        0.97       29.00     Reveal   \n",
       "1             4521.50               358.0        0.03        6.20    Generic   \n",
       "2             1653.78               171.0        0.80       80.00  Determine   \n",
       "3            16007.06              1855.0        0.07        3.99    Generic   \n",
       "4            45450.08              7590.0        0.05        3.20    Generic   \n",
       "\n",
       "                                              Vendor Shipment Mode  \\\n",
       "0                        RANBAXY Fine Chemicals LTD.           Air   \n",
       "1                           Aurobindo Pharma Limited           Air   \n",
       "2                               Abbott GmbH & Co. KG           Air   \n",
       "3  SUN PHARMACEUTICAL INDUSTRIES LTD (RANBAXY LAB...           Air   \n",
       "4                           Aurobindo Pharma Limited           Air   \n",
       "\n",
       "         Country  \n",
       "0  Côte d'Ivoire  \n",
       "1        Vietnam  \n",
       "2  Côte d'Ivoire  \n",
       "3        Vietnam  \n",
       "4        Vietnam  "
      ]
     },
     "execution_count": 20,
     "metadata": {},
     "output_type": "execute_result"
    }
   ],
   "source": [
    "data.head()"
   ]
  },
  {
   "cell_type": "code",
   "execution_count": 21,
   "metadata": {},
   "outputs": [],
   "source": [
    "import matplotlib.pyplot as plt\n",
    "%matplotlib inline\n",
    "import seaborn as sns\n",
    "sns.set_style('darkgrid')"
   ]
  },
  {
   "cell_type": "code",
   "execution_count": 22,
   "metadata": {
    "scrolled": true
   },
   "outputs": [
    {
     "data": {
      "image/png": "[encoded data removed]",
      "text/plain": [
       "<Figure size 720x288 with 1 Axes>"
      ]
     },
     "metadata": {},
     "output_type": "display_data"
    }
   ],
   "source": [
    "plt.figure(figsize=(10,4))\n",
    "plt.xticks(rotation = 0)\n",
    "fig1 = sns.barplot(data['Shipment Mode'],y='Freight Cost (USD)',data=data)\n",
    "plt.title('Shipment Mode Vs Freight Cost')\n",
    "plt.savefig('fig1.png',facecolor='w')"
   ]
  },
  {
   "cell_type": "code",
   "execution_count": 23,
   "metadata": {},
   "outputs": [
    {
     "data": {
      "image/png": "[encoded data removed]",
      "text/plain": [
       "<Figure size 792x432 with 1 Axes>"
      ]
     },
     "metadata": {},
     "output_type": "display_data"
    }
   ],
   "source": [
    "plt.figure(figsize=(11,6))\n",
    "plt.xticks(rotation = 90)\n",
    "fig2 = sns.countplot(data['Brand'],data=data)\n",
    "plt.title('Brand Vs Count')\n",
    "plt.savefig('fig2.png',facecolor='w')"
   ]
  },
  {
   "cell_type": "code",
   "execution_count": 24,
   "metadata": {},
   "outputs": [
    {
     "data": {
      "image/png": "[encoded data removed]",
      "text/plain": [
       "<Figure size 792x432 with 1 Axes>"
      ]
     },
     "metadata": {},
     "output_type": "display_data"
    }
   ],
   "source": [
    "plt.figure(figsize=(11,6))\n",
    "plt.xticks(rotation = 0)\n",
    "fig3 = sns.countplot(data['Shipment Mode'],data=data)\n",
    "plt.title('Shipment Mode Vs Count')\n",
    "plt.savefig('fig3.png',facecolor='w')"
   ]
  },
  {
   "cell_type": "code",
   "execution_count": 25,
   "metadata": {
    "scrolled": false
   },
   "outputs": [
    {
     "data": {
      "image/png": "[encoded data removed]",
      "text/plain": [
       "<Figure size 720x288 with 1 Axes>"
      ]
     },
     "metadata": {},
     "output_type": "display_data"
    }
   ],
   "source": [
    "plt.figure(figsize=(10,4))\n",
    "plt.xticks(rotation = 0)\n",
    "fig4 = sns.barplot(data['Shipment Mode'],y='Pack Price',data=data)\n",
    "plt.title('Shipment Mode Vs Pack Price')\n",
    "plt.savefig('fig4.png',facecolor='w')"
   ]
  },
  {
   "cell_type": "code",
   "execution_count": 26,
   "metadata": {},
   "outputs": [
    {
     "data": {
      "image/png": "[encoded data removed]",
      "text/plain": [
       "<Figure size 432x288 with 1 Axes>"
      ]
     },
     "metadata": {},
     "output_type": "display_data"
    }
   ],
   "source": [
    "fig8 = sns.barplot(x=data['Shipment Mode'],y=data['Unit Price'] ,color='green', linestyle='-',linewidth=2)\n",
    "plt.title('Shipment Mode Vs Unit Price')\n",
    "plt.savefig('fig8.png')"
   ]
  },
  {
   "cell_type": "code",
   "execution_count": 27,
   "metadata": {},
   "outputs": [
    {
     "data": {
      "image/png": "[encoded data removed]",
      "text/plain": [
       "<Figure size 1440x720 with 1 Axes>"
      ]
     },
     "metadata": {},
     "output_type": "display_data"
    }
   ],
   "source": [
    "plt.figure(figsize=(20,10))\n",
    "plt.xticks(rotation = 40)\n",
    "fig5 = sns.barplot(x='Country',y='Unit Price',data=data)\n",
    "plt.title('Unit Price Vs Country')\n",
    "plt.savefig('fig5.png',facecolor='w')"
   ]
  },
  {
   "cell_type": "code",
   "execution_count": 28,
   "metadata": {},
   "outputs": [
    {
     "data": {
      "image/png": "[encoded data removed]",
      "text/plain": [
       "<Figure size 360x360 with 1 Axes>"
      ]
     },
     "metadata": {},
     "output_type": "display_data"
    }
   ],
   "source": [
    "fig6 = sns.lmplot(x='Unit Price',y='Weight (Kilograms)',data=data,markers='*')\n",
    "plt.title('Unit Price Vs Weight')\n",
    "plt.savefig('fig6.png',facecolor='w')"
   ]
  },
  {
   "cell_type": "code",
   "execution_count": 29,
   "metadata": {},
   "outputs": [
    {
     "data": {
      "image/png": "[encoded data removed]",
      "text/plain": [
       "<Figure size 1440x576 with 1 Axes>"
      ]
     },
     "metadata": {},
     "output_type": "display_data"
    }
   ],
   "source": [
    "plt.figure(figsize=(20,8))\n",
    "plt.xticks(rotation = 90)\n",
    "fig7 = sns.barplot(x='Vendor',y='Freight Cost (USD)',data=data)\n",
    "plt.title('Vendor Vs Freight Cost')\n",
    "plt.savefig('fig7.png',facecolor='w')"
   ]
  },
  {
   "cell_type": "code",
   "execution_count": 30,
   "metadata": {},
   "outputs": [],
   "source": [
    "data = pd.get_dummies(data,columns=['Shipment Mode','Country','Brand','Vendor'])"
   ]
  },
  {
   "cell_type": "code",
   "execution_count": 31,
   "metadata": {},
   "outputs": [
    {
     "data": {
      "text/plain": [
       "(10324, 172)"
      ]
     },
     "execution_count": 31,
     "metadata": {},
     "output_type": "execute_result"
    }
   ],
   "source": [
    "data.shape"
   ]
  },
  {
   "cell_type": "code",
   "execution_count": 32,
   "metadata": {},
   "outputs": [
    {
     "data": {
      "text/html": [
       "<div>\n",
       "<style scoped>\n",
       "    .dataframe tbody tr th:only-of-type {\n",
       "        vertical-align: middle;\n",
       "    }\n",
       "\n",
       "    .dataframe tbody tr th {\n",
       "        vertical-align: top;\n",
       "    }\n",
       "\n",
       "    .dataframe thead th {\n",
       "        text-align: right;\n",
       "    }\n",
       "</style>\n",
       "<table border=\"1\" class=\"dataframe\">\n",
       "  <thead>\n",
       "    <tr style=\"text-align: right;\">\n",
       "      <th></th>\n",
       "      <th>Freight Cost (USD)</th>\n",
       "      <th>Weight (Kilograms)</th>\n",
       "      <th>Unit Price</th>\n",
       "      <th>Pack Price</th>\n",
       "      <th>Shipment Mode_Air</th>\n",
       "      <th>Shipment Mode_Air Charter</th>\n",
       "      <th>Shipment Mode_Ocean</th>\n",
       "      <th>Shipment Mode_Truck</th>\n",
       "      <th>Country_Afghanistan</th>\n",
       "      <th>Country_Angola</th>\n",
       "      <th>...</th>\n",
       "      <th>Vendor_SUB-SAHARAN BIOMEDICAL P.L.C.</th>\n",
       "      <th>Vendor_SUN PHARMACEUTICAL INDUSTRIES LTD (RANBAXY LABORATORIES LIMITED)</th>\n",
       "      <th>Vendor_SWORDS LABORATORIES</th>\n",
       "      <th>Vendor_SYSMEX AMERICA INC</th>\n",
       "      <th>Vendor_Standard Diagnostics, Inc.</th>\n",
       "      <th>Vendor_THE MEDICAL EXPORT GROUP BV</th>\n",
       "      <th>Vendor_TURE PHARMACEUTICALS &amp; MEDICAL SUPPLIES P.L.C.</th>\n",
       "      <th>Vendor_Trinity Biotech, Plc</th>\n",
       "      <th>Vendor_WAGENIA</th>\n",
       "      <th>Vendor_ZEPHYR BIOMEDICALS</th>\n",
       "    </tr>\n",
       "  </thead>\n",
       "  <tbody>\n",
       "    <tr>\n",
       "      <th>0</th>\n",
       "      <td>780.34</td>\n",
       "      <td>13.00</td>\n",
       "      <td>0.97</td>\n",
       "      <td>29.00</td>\n",
       "      <td>1</td>\n",
       "      <td>0</td>\n",
       "      <td>0</td>\n",
       "      <td>0</td>\n",
       "      <td>0</td>\n",
       "      <td>0</td>\n",
       "      <td>...</td>\n",
       "      <td>0</td>\n",
       "      <td>0</td>\n",
       "      <td>0</td>\n",
       "      <td>0</td>\n",
       "      <td>0</td>\n",
       "      <td>0</td>\n",
       "      <td>0</td>\n",
       "      <td>0</td>\n",
       "      <td>0</td>\n",
       "      <td>0</td>\n",
       "    </tr>\n",
       "    <tr>\n",
       "      <th>1</th>\n",
       "      <td>4521.50</td>\n",
       "      <td>358.00</td>\n",
       "      <td>0.03</td>\n",
       "      <td>6.20</td>\n",
       "      <td>1</td>\n",
       "      <td>0</td>\n",
       "      <td>0</td>\n",
       "      <td>0</td>\n",
       "      <td>0</td>\n",
       "      <td>0</td>\n",
       "      <td>...</td>\n",
       "      <td>0</td>\n",
       "      <td>0</td>\n",
       "      <td>0</td>\n",
       "      <td>0</td>\n",
       "      <td>0</td>\n",
       "      <td>0</td>\n",
       "      <td>0</td>\n",
       "      <td>0</td>\n",
       "      <td>0</td>\n",
       "      <td>0</td>\n",
       "    </tr>\n",
       "    <tr>\n",
       "      <th>2</th>\n",
       "      <td>1653.78</td>\n",
       "      <td>171.00</td>\n",
       "      <td>0.80</td>\n",
       "      <td>80.00</td>\n",
       "      <td>1</td>\n",
       "      <td>0</td>\n",
       "      <td>0</td>\n",
       "      <td>0</td>\n",
       "      <td>0</td>\n",
       "      <td>0</td>\n",
       "      <td>...</td>\n",
       "      <td>0</td>\n",
       "      <td>0</td>\n",
       "      <td>0</td>\n",
       "      <td>0</td>\n",
       "      <td>0</td>\n",
       "      <td>0</td>\n",
       "      <td>0</td>\n",
       "      <td>0</td>\n",
       "      <td>0</td>\n",
       "      <td>0</td>\n",
       "    </tr>\n",
       "    <tr>\n",
       "      <th>3</th>\n",
       "      <td>16007.06</td>\n",
       "      <td>1855.00</td>\n",
       "      <td>0.07</td>\n",
       "      <td>3.99</td>\n",
       "      <td>1</td>\n",
       "      <td>0</td>\n",
       "      <td>0</td>\n",
       "      <td>0</td>\n",
       "      <td>0</td>\n",
       "      <td>0</td>\n",
       "      <td>...</td>\n",
       "      <td>0</td>\n",
       "      <td>1</td>\n",
       "      <td>0</td>\n",
       "      <td>0</td>\n",
       "      <td>0</td>\n",
       "      <td>0</td>\n",
       "      <td>0</td>\n",
       "      <td>0</td>\n",
       "      <td>0</td>\n",
       "      <td>0</td>\n",
       "    </tr>\n",
       "    <tr>\n",
       "      <th>4</th>\n",
       "      <td>45450.08</td>\n",
       "      <td>7590.00</td>\n",
       "      <td>0.05</td>\n",
       "      <td>3.20</td>\n",
       "      <td>1</td>\n",
       "      <td>0</td>\n",
       "      <td>0</td>\n",
       "      <td>0</td>\n",
       "      <td>0</td>\n",
       "      <td>0</td>\n",
       "      <td>...</td>\n",
       "      <td>0</td>\n",
       "      <td>0</td>\n",
       "      <td>0</td>\n",
       "      <td>0</td>\n",
       "      <td>0</td>\n",
       "      <td>0</td>\n",
       "      <td>0</td>\n",
       "      <td>0</td>\n",
       "      <td>0</td>\n",
       "      <td>0</td>\n",
       "    </tr>\n",
       "    <tr>\n",
       "      <th>5</th>\n",
       "      <td>5920.42</td>\n",
       "      <td>504.00</td>\n",
       "      <td>0.02</td>\n",
       "      <td>5.35</td>\n",
       "      <td>1</td>\n",
       "      <td>0</td>\n",
       "      <td>0</td>\n",
       "      <td>0</td>\n",
       "      <td>0</td>\n",
       "      <td>0</td>\n",
       "      <td>...</td>\n",
       "      <td>0</td>\n",
       "      <td>0</td>\n",
       "      <td>0</td>\n",
       "      <td>0</td>\n",
       "      <td>0</td>\n",
       "      <td>0</td>\n",
       "      <td>0</td>\n",
       "      <td>0</td>\n",
       "      <td>0</td>\n",
       "      <td>0</td>\n",
       "    </tr>\n",
       "    <tr>\n",
       "      <th>6</th>\n",
       "      <td>11103.23</td>\n",
       "      <td>328.00</td>\n",
       "      <td>0.36</td>\n",
       "      <td>32.40</td>\n",
       "      <td>1</td>\n",
       "      <td>0</td>\n",
       "      <td>0</td>\n",
       "      <td>0</td>\n",
       "      <td>0</td>\n",
       "      <td>0</td>\n",
       "      <td>...</td>\n",
       "      <td>0</td>\n",
       "      <td>0</td>\n",
       "      <td>0</td>\n",
       "      <td>0</td>\n",
       "      <td>0</td>\n",
       "      <td>0</td>\n",
       "      <td>0</td>\n",
       "      <td>0</td>\n",
       "      <td>0</td>\n",
       "      <td>0</td>\n",
       "    </tr>\n",
       "    <tr>\n",
       "      <th>7</th>\n",
       "      <td>6212.41</td>\n",
       "      <td>1478.00</td>\n",
       "      <td>0.06</td>\n",
       "      <td>3.65</td>\n",
       "      <td>1</td>\n",
       "      <td>0</td>\n",
       "      <td>0</td>\n",
       "      <td>0</td>\n",
       "      <td>0</td>\n",
       "      <td>0</td>\n",
       "      <td>...</td>\n",
       "      <td>0</td>\n",
       "      <td>0</td>\n",
       "      <td>0</td>\n",
       "      <td>0</td>\n",
       "      <td>0</td>\n",
       "      <td>0</td>\n",
       "      <td>0</td>\n",
       "      <td>0</td>\n",
       "      <td>0</td>\n",
       "      <td>0</td>\n",
       "    </tr>\n",
       "    <tr>\n",
       "      <th>8</th>\n",
       "      <td>11103.23</td>\n",
       "      <td>3424.44</td>\n",
       "      <td>0.03</td>\n",
       "      <td>1.95</td>\n",
       "      <td>1</td>\n",
       "      <td>0</td>\n",
       "      <td>0</td>\n",
       "      <td>0</td>\n",
       "      <td>0</td>\n",
       "      <td>0</td>\n",
       "      <td>...</td>\n",
       "      <td>0</td>\n",
       "      <td>0</td>\n",
       "      <td>0</td>\n",
       "      <td>0</td>\n",
       "      <td>0</td>\n",
       "      <td>0</td>\n",
       "      <td>0</td>\n",
       "      <td>0</td>\n",
       "      <td>0</td>\n",
       "      <td>0</td>\n",
       "    </tr>\n",
       "    <tr>\n",
       "      <th>9</th>\n",
       "      <td>11103.23</td>\n",
       "      <td>643.00</td>\n",
       "      <td>0.34</td>\n",
       "      <td>41.10</td>\n",
       "      <td>1</td>\n",
       "      <td>0</td>\n",
       "      <td>0</td>\n",
       "      <td>0</td>\n",
       "      <td>0</td>\n",
       "      <td>0</td>\n",
       "      <td>...</td>\n",
       "      <td>0</td>\n",
       "      <td>0</td>\n",
       "      <td>0</td>\n",
       "      <td>0</td>\n",
       "      <td>0</td>\n",
       "      <td>0</td>\n",
       "      <td>0</td>\n",
       "      <td>0</td>\n",
       "      <td>0</td>\n",
       "      <td>0</td>\n",
       "    </tr>\n",
       "  </tbody>\n",
       "</table>\n",
       "<p>10 rows × 172 columns</p>\n",
       "</div>"
      ],
      "text/plain": [
       "   Freight Cost (USD)  Weight (Kilograms)  Unit Price  Pack Price  \\\n",
       "0              780.34               13.00        0.97       29.00   \n",
       "1             4521.50              358.00        0.03        6.20   \n",
       "2             1653.78              171.00        0.80       80.00   \n",
       "3            16007.06             1855.00        0.07        3.99   \n",
       "4            45450.08             7590.00        0.05        3.20   \n",
       "5             5920.42              504.00        0.02        5.35   \n",
       "6            11103.23              328.00        0.36       32.40   \n",
       "7             6212.41             1478.00        0.06        3.65   \n",
       "8            11103.23             3424.44        0.03        1.95   \n",
       "9            11103.23              643.00        0.34       41.10   \n",
       "\n",
       "   Shipment Mode_Air  Shipment Mode_Air Charter  Shipment Mode_Ocean  \\\n",
       "0                  1                          0                    0   \n",
       "1                  1                          0                    0   \n",
       "2                  1                          0                    0   \n",
       "3                  1                          0                    0   \n",
       "4                  1                          0                    0   \n",
       "5                  1                          0                    0   \n",
       "6                  1                          0                    0   \n",
       "7                  1                          0                    0   \n",
       "8                  1                          0                    0   \n",
       "9                  1                          0                    0   \n",
       "\n",
       "   Shipment Mode_Truck  Country_Afghanistan  Country_Angola  ...  \\\n",
       "0                    0                    0               0  ...   \n",
       "1                    0                    0               0  ...   \n",
       "2                    0                    0               0  ...   \n",
       "3                    0                    0               0  ...   \n",
       "4                    0                    0               0  ...   \n",
       "5                    0                    0               0  ...   \n",
       "6                    0                    0               0  ...   \n",
       "7                    0                    0               0  ...   \n",
       "8                    0                    0               0  ...   \n",
       "9                    0                    0               0  ...   \n",
       "\n",
       "   Vendor_SUB-SAHARAN BIOMEDICAL P.L.C.  \\\n",
       "0                                     0   \n",
       "1                                     0   \n",
       "2                                     0   \n",
       "3                                     0   \n",
       "4                                     0   \n",
       "5                                     0   \n",
       "6                                     0   \n",
       "7                                     0   \n",
       "8                                     0   \n",
       "9                                     0   \n",
       "\n",
       "   Vendor_SUN PHARMACEUTICAL INDUSTRIES LTD (RANBAXY LABORATORIES LIMITED)  \\\n",
       "0                                                  0                         \n",
       "1                                                  0                         \n",
       "2                                                  0                         \n",
       "3                                                  1                         \n",
       "4                                                  0                         \n",
       "5                                                  0                         \n",
       "6                                                  0                         \n",
       "7                                                  0                         \n",
       "8                                                  0                         \n",
       "9                                                  0                         \n",
       "\n",
       "   Vendor_SWORDS LABORATORIES  Vendor_SYSMEX AMERICA INC  \\\n",
       "0                           0                          0   \n",
       "1                           0                          0   \n",
       "2                           0                          0   \n",
       "3                           0                          0   \n",
       "4                           0                          0   \n",
       "5                           0                          0   \n",
       "6                           0                          0   \n",
       "7                           0                          0   \n",
       "8                           0                          0   \n",
       "9                           0                          0   \n",
       "\n",
       "   Vendor_Standard Diagnostics, Inc.  Vendor_THE MEDICAL EXPORT GROUP BV  \\\n",
       "0                                  0                                   0   \n",
       "1                                  0                                   0   \n",
       "2                                  0                                   0   \n",
       "3                                  0                                   0   \n",
       "4                                  0                                   0   \n",
       "5                                  0                                   0   \n",
       "6                                  0                                   0   \n",
       "7                                  0                                   0   \n",
       "8                                  0                                   0   \n",
       "9                                  0                                   0   \n",
       "\n",
       "   Vendor_TURE PHARMACEUTICALS & MEDICAL SUPPLIES P.L.C.  \\\n",
       "0                                                  0       \n",
       "1                                                  0       \n",
       "2                                                  0       \n",
       "3                                                  0       \n",
       "4                                                  0       \n",
       "5                                                  0       \n",
       "6                                                  0       \n",
       "7                                                  0       \n",
       "8                                                  0       \n",
       "9                                                  0       \n",
       "\n",
       "   Vendor_Trinity Biotech, Plc  Vendor_WAGENIA  Vendor_ZEPHYR BIOMEDICALS  \n",
       "0                            0               0                          0  \n",
       "1                            0               0                          0  \n",
       "2                            0               0                          0  \n",
       "3                            0               0                          0  \n",
       "4                            0               0                          0  \n",
       "5                            0               0                          0  \n",
       "6                            0               0                          0  \n",
       "7                            0               0                          0  \n",
       "8                            0               0                          0  \n",
       "9                            0               0                          0  \n",
       "\n",
       "[10 rows x 172 columns]"
      ]
     },
     "execution_count": 32,
     "metadata": {},
     "output_type": "execute_result"
    }
   ],
   "source": [
    "data.head(10)"
   ]
  },
  {
   "cell_type": "code",
   "execution_count": 33,
   "metadata": {},
   "outputs": [],
   "source": [
    "from sklearn.model_selection import train_test_split\n",
    "from sklearn.linear_model import LinearRegression\n",
    "import matplotlib.pyplot as plt\n",
    "import seaborn as sns\n",
    "%matplotlib inline\n",
    "from sklearn.metrics import confusion_matrix,classification_report"
   ]
  },
  {
   "cell_type": "code",
   "execution_count": 36,
   "metadata": {},
   "outputs": [],
   "source": [
    "y = pd.DataFrame(data['Freight Cost (USD)'])\n",
    "X = pd.DataFrame(data.loc[:,data.columns != 'Freight Cost (USD)'])"
   ]
  },
  {
   "cell_type": "code",
   "execution_count": 37,
   "metadata": {},
   "outputs": [],
   "source": [
    " X_train, X_test, y_train, y_test = train_test_split(X, y, test_size=0.30, random_state=101)"
   ]
  },
  {
   "cell_type": "code",
   "execution_count": 38,
   "metadata": {},
   "outputs": [],
   "source": [
    "lm = LinearRegression()"
   ]
  },
  {
   "cell_type": "code",
   "execution_count": 39,
   "metadata": {},
   "outputs": [],
   "source": [
    "model = lm.fit(X_train,y_train)"
   ]
  },
  {
   "cell_type": "code",
   "execution_count": 40,
   "metadata": {},
   "outputs": [],
   "source": [
    "predictions = model.predict(X_test)"
   ]
  },
  {
   "cell_type": "code",
   "execution_count": 41,
   "metadata": {},
   "outputs": [
    {
     "name": "stdout",
     "output_type": "stream",
     "text": [
      "<bound method RegressorMixin.score of LinearRegression()>\n"
     ]
    }
   ],
   "source": [
    "print(lm.score)"
   ]
  },
  {
   "cell_type": "code",
   "execution_count": 42,
   "metadata": {},
   "outputs": [
    {
     "name": "stderr",
     "output_type": "stream",
     "text": [
      "<ipython-input-42-2bb646157833>:3: RuntimeWarning: divide by zero encountered in true_divide\n",
      "  return np.mean(np.abs((actual-pred)/actual))*100\n"
     ]
    },
    {
     "data": {
      "text/plain": [
       "inf"
      ]
     },
     "execution_count": 42,
     "metadata": {},
     "output_type": "execute_result"
    }
   ],
   "source": [
    "def mape(actual,pred):\n",
    "    actual,pred = np.array(actual), np.array(pred)\n",
    "    return np.mean(np.abs((actual-pred)/actual))*100\n",
    "actual = data['Freight Cost (USD)']\n",
    "pred = lm.predict(X_test)\n",
    "mape(X_test,predictions)"
   ]
  },
  {
   "cell_type": "code",
   "execution_count": 43,
   "metadata": {},
   "outputs": [
    {
     "data": {
      "text/plain": [
       "<matplotlib.collections.PathCollection at 0x7fd9938dc2e0>"
      ]
     },
     "execution_count": 43,
     "metadata": {},
     "output_type": "execute_result"
    },
    {
     "data": {
      "image/png": "[encoded data removed]",
      "text/plain": [
       "<Figure size 720x432 with 1 Axes>"
      ]
     },
     "metadata": {
      "needs_background": "light"
     },
     "output_type": "display_data"
    }
   ],
   "source": [
    "plt.figure(figsize=(10,6))\n",
    "plt.scatter(y_test,predictions,marker='o',color='red')"
   ]
  },
  {
   "cell_type": "code",
   "execution_count": 44,
   "metadata": {},
   "outputs": [
    {
     "data": {
      "text/plain": [
       "0"
      ]
     },
     "execution_count": 44,
     "metadata": {},
     "output_type": "execute_result"
    }
   ],
   "source": [
    "data['Weight (Kilograms)'].isna().sum()"
   ]
  },
  {
   "cell_type": "code",
   "execution_count": 45,
   "metadata": {},
   "outputs": [
    {
     "data": {
      "text/plain": [
       "0"
      ]
     },
     "execution_count": 45,
     "metadata": {},
     "output_type": "execute_result"
    }
   ],
   "source": [
    "data['Unit Price'].isna().sum()"
   ]
  },
  {
   "cell_type": "code",
   "execution_count": 46,
   "metadata": {},
   "outputs": [
    {
     "data": {
      "text/plain": [
       "0"
      ]
     },
     "execution_count": 46,
     "metadata": {},
     "output_type": "execute_result"
    }
   ],
   "source": [
    "data['Pack Price'].isna().sum()"
   ]
  },
  {
   "cell_type": "code",
   "execution_count": 47,
   "metadata": {},
   "outputs": [
    {
     "data": {
      "text/plain": [
       "0"
      ]
     },
     "execution_count": 47,
     "metadata": {},
     "output_type": "execute_result"
    }
   ],
   "source": [
    "data['Freight Cost (USD)'].isna().sum()"
   ]
  },
  {
   "cell_type": "code",
   "execution_count": 48,
   "metadata": {},
   "outputs": [],
   "source": [
    "import statsmodels\n",
    "import pandas as pd\n",
    "from sklearn.model_selection import train_test_split\n",
    "from sklearn.linear_model import LinearRegression "
   ]
  },
  {
   "cell_type": "code",
   "execution_count": 49,
   "metadata": {},
   "outputs": [],
   "source": [
    "y = pd.DataFrame(data['Freight Cost (USD)'])\n",
    "X = pd.DataFrame(data[['Pack Price','Unit Price','Weight (Kilograms)']])"
   ]
  },
  {
   "cell_type": "code",
   "execution_count": 50,
   "metadata": {},
   "outputs": [],
   "source": [
    "X_train,X_test,y_train,y_test = train_test_split(X,y,test_size=0.3,random_state=101)"
   ]
  },
  {
   "cell_type": "code",
   "execution_count": 51,
   "metadata": {},
   "outputs": [],
   "source": [
    "lm = LinearRegression()"
   ]
  },
  {
   "cell_type": "code",
   "execution_count": 52,
   "metadata": {},
   "outputs": [
    {
     "data": {
      "text/plain": [
       "LinearRegression()"
      ]
     },
     "execution_count": 52,
     "metadata": {},
     "output_type": "execute_result"
    }
   ],
   "source": [
    "lm.fit(X_train,y_train)"
   ]
  },
  {
   "cell_type": "code",
   "execution_count": 53,
   "metadata": {},
   "outputs": [],
   "source": [
    "predictions = lm.predict(X_test)"
   ]
  },
  {
   "cell_type": "code",
   "execution_count": 54,
   "metadata": {},
   "outputs": [
    {
     "name": "stdout",
     "output_type": "stream",
     "text": [
      "The coefficients are:\n",
      " [[-5.26475560e+00  1.91207264e+02  1.75836377e-01]]\n"
     ]
    }
   ],
   "source": [
    "print('The coefficients are:\\n',lm.coef_)"
   ]
  },
  {
   "cell_type": "code",
   "execution_count": 55,
   "metadata": {},
   "outputs": [
    {
     "data": {
      "text/plain": [
       "Text(0, 0.5, 'y_predicted')"
      ]
     },
     "execution_count": 55,
     "metadata": {},
     "output_type": "execute_result"
    },
    {
     "data": {
      "image/png": "[encoded data removed]",
      "text/plain": [
       "<Figure size 432x288 with 1 Axes>"
      ]
     },
     "metadata": {
      "needs_background": "light"
     },
     "output_type": "display_data"
    }
   ],
   "source": [
    "plt.scatter(y_test,predictions,color='red')\n",
    "\n",
    "plt.xlabel('y_test')\n",
    "plt.ylabel('y_predicted')"
   ]
  },
  {
   "cell_type": "code",
   "execution_count": 56,
   "metadata": {},
   "outputs": [
    {
     "name": "stdout",
     "output_type": "stream",
     "text": [
      "MAE: 5707.318676240373\n",
      "MSE: 161503375.3315086\n",
      "RMSE: 12708.397827086961\n"
     ]
    }
   ],
   "source": [
    "# calculate these metrics by hand!\n",
    "from sklearn import metrics\n",
    "\n",
    "print('MAE:', metrics.mean_absolute_error(y_test, predictions))\n",
    "print('MSE:', metrics.mean_squared_error(y_test, predictions))\n",
    "print('RMSE:', np.sqrt(metrics.mean_squared_error(y_test, predictions)))\n",
    "\n",
    "def mape(actual,pred):\n",
    "    actual,pred = np.array(actual), np.array(pred)\n",
    "    return np.mean(np.abs((actual-pred)/actual))*100\n",
    "actual = data['Freight Cost (USD)']\n",
    "pred = lm.predict(X_test)"
   ]
  },
  {
   "cell_type": "code",
   "execution_count": 57,
   "metadata": {},
   "outputs": [
    {
     "data": {
      "text/plain": [
       "430.21075085839584"
      ]
     },
     "execution_count": 57,
     "metadata": {},
     "output_type": "execute_result"
    }
   ],
   "source": [
    "mape(actual,predictions)"
   ]
  },
  {
   "cell_type": "code",
   "execution_count": 58,
   "metadata": {
    "scrolled": true
   },
   "outputs": [
    {
     "data": {
      "text/plain": [
       "<matplotlib.axes._subplots.AxesSubplot at 0x7fd993888e80>"
      ]
     },
     "execution_count": 58,
     "metadata": {},
     "output_type": "execute_result"
    },
    {
     "data": {
      "image/png": "[encoded data removed]",
      "text/plain": [
       "<Figure size 432x288 with 1 Axes>"
      ]
     },
     "metadata": {
      "needs_background": "light"
     },
     "output_type": "display_data"
    }
   ],
   "source": [
    "sns.distplot((y_test-predictions),bins=50)"
   ]
  },
  {
   "cell_type": "code",
   "execution_count": 70,
   "metadata": {},
   "outputs": [],
   "source": [
    "import statsmodels.api as sm\n",
    "from sklearn.model_selection import train_test_split"
   ]
  },
  {
   "cell_type": "code",
   "execution_count": 69,
   "metadata": {},
   "outputs": [],
   "source": [
    "y = data['Unit Price']\n",
    "X = data.drop('Unit Price',axis=1)"
   ]
  },
  {
   "cell_type": "code",
   "execution_count": 61,
   "metadata": {},
   "outputs": [],
   "source": [
    "model = sm.OLS(y,X)"
   ]
  },
  {
   "cell_type": "code",
   "execution_count": 62,
   "metadata": {},
   "outputs": [
    {
     "data": {
      "text/html": [
       "<table class=\"simpletable\">\n",
       "<caption>OLS Regression Results</caption>\n",
       "<tr>\n",
       "  <th>Dep. Variable:</th>       <td>Unit Price</td>    <th>  R-squared:         </th> <td>   0.974</td> \n",
       "</tr>\n",
       "<tr>\n",
       "  <th>Model:</th>                   <td>OLS</td>       <th>  Adj. R-squared:    </th> <td>   0.974</td> \n",
       "</tr>\n",
       "<tr>\n",
       "  <th>Method:</th>             <td>Least Squares</td>  <th>  F-statistic:       </th> <td>   2412.</td> \n",
       "</tr>\n",
       "<tr>\n",
       "  <th>Date:</th>             <td>Sun, 29 Nov 2020</td> <th>  Prob (F-statistic):</th>  <td>  0.00</td>  \n",
       "</tr>\n",
       "<tr>\n",
       "  <th>Time:</th>                 <td>18:24:56</td>     <th>  Log-Likelihood:    </th> <td> -8022.5</td> \n",
       "</tr>\n",
       "<tr>\n",
       "  <th>No. Observations:</th>      <td> 10324</td>      <th>  AIC:               </th> <td>1.637e+04</td>\n",
       "</tr>\n",
       "<tr>\n",
       "  <th>Df Residuals:</th>          <td> 10164</td>      <th>  BIC:               </th> <td>1.752e+04</td>\n",
       "</tr>\n",
       "<tr>\n",
       "  <th>Df Model:</th>              <td>   159</td>      <th>                     </th>     <td> </td>    \n",
       "</tr>\n",
       "<tr>\n",
       "  <th>Covariance Type:</th>      <td>nonrobust</td>    <th>                     </th>     <td> </td>    \n",
       "</tr>\n",
       "</table>\n",
       "<table class=\"simpletable\">\n",
       "<tr>\n",
       "                                      <td></td>                                        <th>coef</th>     <th>std err</th>      <th>t</th>      <th>P>|t|</th>  <th>[0.025</th>    <th>0.975]</th>  \n",
       "</tr>\n",
       "<tr>\n",
       "  <th>Freight Cost (USD)</th>                                                       <td>  1.33e-06</td> <td> 4.71e-07</td> <td>    2.827</td> <td> 0.005</td> <td> 4.08e-07</td> <td> 2.25e-06</td>\n",
       "</tr>\n",
       "<tr>\n",
       "  <th>Weight (Kilograms)</th>                                                       <td> 3.221e-07</td> <td> 5.35e-07</td> <td>    0.603</td> <td> 0.547</td> <td>-7.26e-07</td> <td> 1.37e-06</td>\n",
       "</tr>\n",
       "<tr>\n",
       "  <th>Pack Price</th>                                                               <td>   -0.0081</td> <td>    0.000</td> <td>  -23.556</td> <td> 0.000</td> <td>   -0.009</td> <td>   -0.007</td>\n",
       "</tr>\n",
       "<tr>\n",
       "  <th>Shipment Mode_Air</th>                                                        <td>   -0.0874</td> <td>    0.033</td> <td>   -2.624</td> <td> 0.009</td> <td>   -0.153</td> <td>   -0.022</td>\n",
       "</tr>\n",
       "<tr>\n",
       "  <th>Shipment Mode_Air Charter</th>                                                <td>   -0.0622</td> <td>    0.043</td> <td>   -1.449</td> <td> 0.147</td> <td>   -0.146</td> <td>    0.022</td>\n",
       "</tr>\n",
       "<tr>\n",
       "  <th>Shipment Mode_Ocean</th>                                                      <td>   -0.0786</td> <td>    0.052</td> <td>   -1.508</td> <td> 0.132</td> <td>   -0.181</td> <td>    0.024</td>\n",
       "</tr>\n",
       "<tr>\n",
       "  <th>Shipment Mode_Truck</th>                                                      <td>   -0.0717</td> <td>    0.034</td> <td>   -2.136</td> <td> 0.033</td> <td>   -0.138</td> <td>   -0.006</td>\n",
       "</tr>\n",
       "<tr>\n",
       "  <th>Country_Afghanistan</th>                                                      <td>    3.6941</td> <td>    0.385</td> <td>    9.604</td> <td> 0.000</td> <td>    2.940</td> <td>    4.448</td>\n",
       "</tr>\n",
       "<tr>\n",
       "  <th>Country_Angola</th>                                                           <td>    3.5695</td> <td>    0.201</td> <td>   17.741</td> <td> 0.000</td> <td>    3.175</td> <td>    3.964</td>\n",
       "</tr>\n",
       "<tr>\n",
       "  <th>Country_Belize</th>                                                           <td>    3.4745</td> <td>    0.524</td> <td>    6.628</td> <td> 0.000</td> <td>    2.447</td> <td>    4.502</td>\n",
       "</tr>\n",
       "<tr>\n",
       "  <th>Country_Benin</th>                                                            <td>    3.6218</td> <td>    0.149</td> <td>   24.277</td> <td> 0.000</td> <td>    3.329</td> <td>    3.914</td>\n",
       "</tr>\n",
       "<tr>\n",
       "  <th>Country_Botswana</th>                                                         <td>    4.3255</td> <td>    0.073</td> <td>   59.455</td> <td> 0.000</td> <td>    4.183</td> <td>    4.468</td>\n",
       "</tr>\n",
       "<tr>\n",
       "  <th>Country_Burkina Faso</th>                                                     <td>    3.3961</td> <td>    0.372</td> <td>    9.119</td> <td> 0.000</td> <td>    2.666</td> <td>    4.126</td>\n",
       "</tr>\n",
       "<tr>\n",
       "  <th>Country_Burundi</th>                                                          <td>    3.5732</td> <td>    0.064</td> <td>   56.162</td> <td> 0.000</td> <td>    3.448</td> <td>    3.698</td>\n",
       "</tr>\n",
       "<tr>\n",
       "  <th>Country_Cameroon</th>                                                         <td>    3.6130</td> <td>    0.071</td> <td>   50.721</td> <td> 0.000</td> <td>    3.473</td> <td>    3.753</td>\n",
       "</tr>\n",
       "<tr>\n",
       "  <th>Country_Congo, DRC</th>                                                       <td>    3.6385</td> <td>    0.044</td> <td>   82.396</td> <td> 0.000</td> <td>    3.552</td> <td>    3.725</td>\n",
       "</tr>\n",
       "<tr>\n",
       "  <th>Country_Côte d'Ivoire</th>                                                    <td>    3.6504</td> <td>    0.037</td> <td>   99.115</td> <td> 0.000</td> <td>    3.578</td> <td>    3.723</td>\n",
       "</tr>\n",
       "<tr>\n",
       "  <th>Country_Dominican Republic</th>                                               <td>    3.7725</td> <td>    0.083</td> <td>   45.289</td> <td> 0.000</td> <td>    3.609</td> <td>    3.936</td>\n",
       "</tr>\n",
       "<tr>\n",
       "  <th>Country_Ethiopia</th>                                                         <td>    3.5372</td> <td>    0.050</td> <td>   71.250</td> <td> 0.000</td> <td>    3.440</td> <td>    3.635</td>\n",
       "</tr>\n",
       "<tr>\n",
       "  <th>Country_Ghana</th>                                                            <td>    3.5561</td> <td>    0.077</td> <td>   46.242</td> <td> 0.000</td> <td>    3.405</td> <td>    3.707</td>\n",
       "</tr>\n",
       "<tr>\n",
       "  <th>Country_Guatemala</th>                                                        <td>    4.9679</td> <td>    0.161</td> <td>   30.919</td> <td> 0.000</td> <td>    4.653</td> <td>    5.283</td>\n",
       "</tr>\n",
       "<tr>\n",
       "  <th>Country_Guinea</th>                                                           <td>    3.4236</td> <td>    0.524</td> <td>    6.528</td> <td> 0.000</td> <td>    2.396</td> <td>    4.452</td>\n",
       "</tr>\n",
       "<tr>\n",
       "  <th>Country_Guyana</th>                                                           <td>    3.6266</td> <td>    0.048</td> <td>   74.972</td> <td> 0.000</td> <td>    3.532</td> <td>    3.721</td>\n",
       "</tr>\n",
       "<tr>\n",
       "  <th>Country_Haiti</th>                                                            <td>    3.5703</td> <td>    0.040</td> <td>   89.494</td> <td> 0.000</td> <td>    3.492</td> <td>    3.649</td>\n",
       "</tr>\n",
       "<tr>\n",
       "  <th>Country_Kazakhstan</th>                                                       <td>    2.7559</td> <td>    0.380</td> <td>    7.253</td> <td> 0.000</td> <td>    2.011</td> <td>    3.501</td>\n",
       "</tr>\n",
       "<tr>\n",
       "  <th>Country_Kenya</th>                                                            <td>    3.6198</td> <td>    0.062</td> <td>   58.295</td> <td> 0.000</td> <td>    3.498</td> <td>    3.742</td>\n",
       "</tr>\n",
       "<tr>\n",
       "  <th>Country_Kyrgyzstan</th>                                                       <td>    4.1235</td> <td>    0.478</td> <td>    8.619</td> <td> 0.000</td> <td>    3.186</td> <td>    5.061</td>\n",
       "</tr>\n",
       "<tr>\n",
       "  <th>Country_Lebanon</th>                                                          <td>    3.3742</td> <td>    0.188</td> <td>   17.916</td> <td> 0.000</td> <td>    3.005</td> <td>    3.743</td>\n",
       "</tr>\n",
       "<tr>\n",
       "  <th>Country_Lesotho</th>                                                          <td>    3.1517</td> <td>    0.267</td> <td>   11.811</td> <td> 0.000</td> <td>    2.629</td> <td>    3.675</td>\n",
       "</tr>\n",
       "<tr>\n",
       "  <th>Country_Liberia</th>                                                          <td>    3.6117</td> <td>    0.217</td> <td>   16.632</td> <td> 0.000</td> <td>    3.186</td> <td>    4.037</td>\n",
       "</tr>\n",
       "<tr>\n",
       "  <th>Country_Libya</th>                                                            <td>    3.6395</td> <td>    0.188</td> <td>   19.324</td> <td> 0.000</td> <td>    3.270</td> <td>    4.009</td>\n",
       "</tr>\n",
       "<tr>\n",
       "  <th>Country_Malawi</th>                                                           <td>    3.6088</td> <td>    0.145</td> <td>   24.941</td> <td> 0.000</td> <td>    3.325</td> <td>    3.892</td>\n",
       "</tr>\n",
       "<tr>\n",
       "  <th>Country_Mali</th>                                                             <td>    7.3069</td> <td>    0.139</td> <td>   52.393</td> <td> 0.000</td> <td>    7.034</td> <td>    7.580</td>\n",
       "</tr>\n",
       "<tr>\n",
       "  <th>Country_Mozambique</th>                                                       <td>    3.6390</td> <td>    0.040</td> <td>   90.686</td> <td> 0.000</td> <td>    3.560</td> <td>    3.718</td>\n",
       "</tr>\n",
       "<tr>\n",
       "  <th>Country_Namibia</th>                                                          <td>    3.6294</td> <td>    0.067</td> <td>   54.405</td> <td> 0.000</td> <td>    3.499</td> <td>    3.760</td>\n",
       "</tr>\n",
       "<tr>\n",
       "  <th>Country_Nigeria</th>                                                          <td>    3.6385</td> <td>    0.040</td> <td>   90.643</td> <td> 0.000</td> <td>    3.560</td> <td>    3.717</td>\n",
       "</tr>\n",
       "<tr>\n",
       "  <th>Country_Pakistan</th>                                                         <td>    3.5929</td> <td>    0.151</td> <td>   23.771</td> <td> 0.000</td> <td>    3.297</td> <td>    3.889</td>\n",
       "</tr>\n",
       "<tr>\n",
       "  <th>Country_Rwanda</th>                                                           <td>    3.6537</td> <td>    0.043</td> <td>   85.621</td> <td> 0.000</td> <td>    3.570</td> <td>    3.737</td>\n",
       "</tr>\n",
       "<tr>\n",
       "  <th>Country_Senegal</th>                                                          <td>    4.2750</td> <td>    0.323</td> <td>   13.239</td> <td> 0.000</td> <td>    3.642</td> <td>    4.908</td>\n",
       "</tr>\n",
       "<tr>\n",
       "  <th>Country_Sierra Leone</th>                                                     <td>    3.6199</td> <td>    0.265</td> <td>   13.665</td> <td> 0.000</td> <td>    3.101</td> <td>    4.139</td>\n",
       "</tr>\n",
       "<tr>\n",
       "  <th>Country_South Africa</th>                                                     <td>    3.5630</td> <td>    0.053</td> <td>   66.640</td> <td> 0.000</td> <td>    3.458</td> <td>    3.668</td>\n",
       "</tr>\n",
       "<tr>\n",
       "  <th>Country_South Sudan</th>                                                      <td>    3.8806</td> <td>    0.053</td> <td>   73.689</td> <td> 0.000</td> <td>    3.777</td> <td>    3.984</td>\n",
       "</tr>\n",
       "<tr>\n",
       "  <th>Country_Sudan</th>                                                            <td>    3.3412</td> <td>    0.085</td> <td>   39.371</td> <td> 0.000</td> <td>    3.175</td> <td>    3.508</td>\n",
       "</tr>\n",
       "<tr>\n",
       "  <th>Country_Swaziland</th>                                                        <td>    3.9097</td> <td>    0.095</td> <td>   41.263</td> <td> 0.000</td> <td>    3.724</td> <td>    4.095</td>\n",
       "</tr>\n",
       "<tr>\n",
       "  <th>Country_Tanzania</th>                                                         <td>    3.6306</td> <td>    0.041</td> <td>   89.066</td> <td> 0.000</td> <td>    3.551</td> <td>    3.711</td>\n",
       "</tr>\n",
       "<tr>\n",
       "  <th>Country_Togo</th>                                                             <td>    3.6426</td> <td>    0.304</td> <td>   11.976</td> <td> 0.000</td> <td>    3.046</td> <td>    4.239</td>\n",
       "</tr>\n",
       "<tr>\n",
       "  <th>Country_Uganda</th>                                                           <td>    3.6313</td> <td>    0.039</td> <td>   93.088</td> <td> 0.000</td> <td>    3.555</td> <td>    3.708</td>\n",
       "</tr>\n",
       "<tr>\n",
       "  <th>Country_Vietnam</th>                                                          <td>    3.7160</td> <td>    0.043</td> <td>   85.793</td> <td> 0.000</td> <td>    3.631</td> <td>    3.801</td>\n",
       "</tr>\n",
       "<tr>\n",
       "  <th>Country_Zambia</th>                                                           <td>    3.6262</td> <td>    0.039</td> <td>   93.505</td> <td> 0.000</td> <td>    3.550</td> <td>    3.702</td>\n",
       "</tr>\n",
       "<tr>\n",
       "  <th>Country_Zimbabwe</th>                                                         <td>    3.6211</td> <td>    0.041</td> <td>   88.360</td> <td> 0.000</td> <td>    3.541</td> <td>    3.701</td>\n",
       "</tr>\n",
       "<tr>\n",
       "  <th>Brand_Aluvia</th>                                                             <td>   -4.4129</td> <td>    0.052</td> <td>  -85.149</td> <td> 0.000</td> <td>   -4.515</td> <td>   -4.311</td>\n",
       "</tr>\n",
       "<tr>\n",
       "  <th>Brand_Atripla</th>                                                            <td>   -2.9342</td> <td>    0.160</td> <td>  -18.395</td> <td> 0.000</td> <td>   -3.247</td> <td>   -2.622</td>\n",
       "</tr>\n",
       "<tr>\n",
       "  <th>Brand_Bioline</th>                                                            <td>   -3.6782</td> <td>    0.096</td> <td>  -38.485</td> <td> 0.000</td> <td>   -3.865</td> <td>   -3.491</td>\n",
       "</tr>\n",
       "<tr>\n",
       "  <th>Brand_Bundi</th>                                                              <td>   17.0959</td> <td>    0.187</td> <td>   91.386</td> <td> 0.000</td> <td>   16.729</td> <td>   17.463</td>\n",
       "</tr>\n",
       "<tr>\n",
       "  <th>Brand_Capillus</th>                                                           <td>   -2.4290</td> <td>    0.119</td> <td>  -20.424</td> <td> 0.000</td> <td>   -2.662</td> <td>   -2.196</td>\n",
       "</tr>\n",
       "<tr>\n",
       "  <th>Brand_CareStart</th>                                                          <td>   -1.4558</td> <td>    0.264</td> <td>   -5.512</td> <td> 0.000</td> <td>   -1.974</td> <td>   -0.938</td>\n",
       "</tr>\n",
       "<tr>\n",
       "  <th>Brand_Clearview</th>                                                          <td>   -1.6938</td> <td>    0.142</td> <td>  -11.959</td> <td> 0.000</td> <td>   -1.971</td> <td>   -1.416</td>\n",
       "</tr>\n",
       "<tr>\n",
       "  <th>Brand_Coartem</th>                                                            <td>   -4.5265</td> <td>    0.255</td> <td>  -17.747</td> <td> 0.000</td> <td>   -5.026</td> <td>   -4.027</td>\n",
       "</tr>\n",
       "<tr>\n",
       "  <th>Brand_Colloidal Gold</th>                                                     <td>   10.3605</td> <td>    0.038</td> <td>  274.114</td> <td> 0.000</td> <td>   10.286</td> <td>   10.435</td>\n",
       "</tr>\n",
       "<tr>\n",
       "  <th>Brand_Combivir</th>                                                           <td>   -4.6312</td> <td>    0.305</td> <td>  -15.204</td> <td> 0.000</td> <td>   -5.228</td> <td>   -4.034</td>\n",
       "</tr>\n",
       "<tr>\n",
       "  <th>Brand_Crixivan</th>                                                           <td>   -4.2878</td> <td>    0.098</td> <td>  -43.664</td> <td> 0.000</td> <td>   -4.480</td> <td>   -4.095</td>\n",
       "</tr>\n",
       "<tr>\n",
       "  <th>Brand_Determine</th>                                                          <td>   -3.4098</td> <td>    0.059</td> <td>  -57.493</td> <td> 0.000</td> <td>   -3.526</td> <td>   -3.294</td>\n",
       "</tr>\n",
       "<tr>\n",
       "  <th>Brand_DoubleCheck</th>                                                        <td>   -2.8067</td> <td>    0.306</td> <td>   -9.167</td> <td> 0.000</td> <td>   -3.407</td> <td>   -2.207</td>\n",
       "</tr>\n",
       "<tr>\n",
       "  <th>Brand_Epivir</th>                                                             <td>   -5.0840</td> <td>    0.092</td> <td>  -55.265</td> <td> 0.000</td> <td>   -5.264</td> <td>   -4.904</td>\n",
       "</tr>\n",
       "<tr>\n",
       "  <th>Brand_First Response</th>                                                     <td>   -4.4480</td> <td>    0.238</td> <td>  -18.651</td> <td> 0.000</td> <td>   -4.915</td> <td>   -3.980</td>\n",
       "</tr>\n",
       "<tr>\n",
       "  <th>Brand_Generic</th>                                                            <td>   -4.7365</td> <td>    0.040</td> <td> -117.871</td> <td> 0.000</td> <td>   -4.815</td> <td>   -4.658</td>\n",
       "</tr>\n",
       "<tr>\n",
       "  <th>Brand_Genie</th>                                                              <td>   -2.5016</td> <td>    0.197</td> <td>  -12.712</td> <td> 0.000</td> <td>   -2.887</td> <td>   -2.116</td>\n",
       "</tr>\n",
       "<tr>\n",
       "  <th>Brand_Hexagon</th>                                                            <td>   -0.7557</td> <td>    0.157</td> <td>   -4.824</td> <td> 0.000</td> <td>   -1.063</td> <td>   -0.449</td>\n",
       "</tr>\n",
       "<tr>\n",
       "  <th>Brand_INSTi</th>                                                              <td>   -0.4254</td> <td>    0.120</td> <td>   -3.554</td> <td> 0.000</td> <td>   -0.660</td> <td>   -0.191</td>\n",
       "</tr>\n",
       "<tr>\n",
       "  <th>Brand_ImmunoComb</th>                                                         <td>   -4.0590</td> <td>    0.340</td> <td>  -11.937</td> <td> 0.000</td> <td>   -4.725</td> <td>   -3.392</td>\n",
       "</tr>\n",
       "<tr>\n",
       "  <th>Brand_InstantCHEK</th>                                                        <td>   -1.0524</td> <td>    0.188</td> <td>   -5.608</td> <td> 0.000</td> <td>   -1.420</td> <td>   -0.685</td>\n",
       "</tr>\n",
       "<tr>\n",
       "  <th>Brand_Intelence</th>                                                          <td>   -4.5838</td> <td>    0.111</td> <td>  -41.253</td> <td> 0.000</td> <td>   -4.802</td> <td>   -4.366</td>\n",
       "</tr>\n",
       "<tr>\n",
       "  <th>Brand_Invirase</th>                                                           <td>   -4.2462</td> <td>    0.092</td> <td>  -46.128</td> <td> 0.000</td> <td>   -4.427</td> <td>   -4.066</td>\n",
       "</tr>\n",
       "<tr>\n",
       "  <th>Brand_Isentress</th>                                                          <td>   -3.4606</td> <td>    0.100</td> <td>  -34.741</td> <td> 0.000</td> <td>   -3.656</td> <td>   -3.265</td>\n",
       "</tr>\n",
       "<tr>\n",
       "  <th>Brand_Kaletra</th>                                                            <td>   -4.7883</td> <td>    0.059</td> <td>  -81.263</td> <td> 0.000</td> <td>   -4.904</td> <td>   -4.673</td>\n",
       "</tr>\n",
       "<tr>\n",
       "  <th>Brand_LAV</th>                                                                <td>   14.6396</td> <td>    0.315</td> <td>   46.451</td> <td> 0.000</td> <td>   14.022</td> <td>   15.257</td>\n",
       "</tr>\n",
       "<tr>\n",
       "  <th>Brand_Multispot</th>                                                          <td>   30.1731</td> <td>    0.524</td> <td>   57.536</td> <td> 0.000</td> <td>   29.145</td> <td>   31.201</td>\n",
       "</tr>\n",
       "<tr>\n",
       "  <th>Brand_Norvir</th>                                                             <td>   -4.6515</td> <td>    0.063</td> <td>  -73.624</td> <td> 0.000</td> <td>   -4.775</td> <td>   -4.528</td>\n",
       "</tr>\n",
       "<tr>\n",
       "  <th>Brand_OraQuick</th>                                                           <td>    2.0597</td> <td>    0.325</td> <td>    6.331</td> <td> 0.000</td> <td>    1.422</td> <td>    2.697</td>\n",
       "</tr>\n",
       "<tr>\n",
       "  <th>Brand_Paramax</th>                                                            <td>   -0.8804</td> <td>    0.120</td> <td>   -7.334</td> <td> 0.000</td> <td>   -1.116</td> <td>   -0.645</td>\n",
       "</tr>\n",
       "<tr>\n",
       "  <th>Brand_Pepti-LAV</th>                                                          <td>  235.5505</td> <td>    0.528</td> <td>  446.223</td> <td> 0.000</td> <td>  234.516</td> <td>  236.585</td>\n",
       "</tr>\n",
       "<tr>\n",
       "  <th>Brand_Prezista</th>                                                           <td>   -4.0571</td> <td>    0.111</td> <td>  -36.646</td> <td> 0.000</td> <td>   -4.274</td> <td>   -3.840</td>\n",
       "</tr>\n",
       "<tr>\n",
       "  <th>Brand_Retrovir</th>                                                           <td>   -4.4647</td> <td>    0.092</td> <td>  -48.411</td> <td> 0.000</td> <td>   -4.645</td> <td>   -4.284</td>\n",
       "</tr>\n",
       "<tr>\n",
       "  <th>Brand_Reveal</th>                                                             <td>   -1.2657</td> <td>    0.217</td> <td>   -5.844</td> <td> 0.000</td> <td>   -1.690</td> <td>   -0.841</td>\n",
       "</tr>\n",
       "<tr>\n",
       "  <th>Brand_Reyataz</th>                                                            <td>   -4.3284</td> <td>    0.142</td> <td>  -30.486</td> <td> 0.000</td> <td>   -4.607</td> <td>   -4.050</td>\n",
       "</tr>\n",
       "<tr>\n",
       "  <th>Brand_Stat-Pak</th>                                                           <td>   -3.7469</td> <td>    0.234</td> <td>  -15.989</td> <td> 0.000</td> <td>   -4.206</td> <td>   -3.288</td>\n",
       "</tr>\n",
       "<tr>\n",
       "  <th>Brand_Stocrin/Sustiva</th>                                                    <td>   -4.7533</td> <td>    0.077</td> <td>  -62.094</td> <td> 0.000</td> <td>   -4.903</td> <td>   -4.603</td>\n",
       "</tr>\n",
       "<tr>\n",
       "  <th>Brand_Trizivir</th>                                                           <td>   -3.6293</td> <td>    0.135</td> <td>  -26.870</td> <td> 0.000</td> <td>   -3.894</td> <td>   -3.365</td>\n",
       "</tr>\n",
       "<tr>\n",
       "  <th>Brand_Truvada</th>                                                            <td>   -3.8013</td> <td>    0.066</td> <td>  -57.419</td> <td> 0.000</td> <td>   -3.931</td> <td>   -3.671</td>\n",
       "</tr>\n",
       "<tr>\n",
       "  <th>Brand_Uni-Gold</th>                                                           <td>   -3.1149</td> <td>    0.084</td> <td>  -36.877</td> <td> 0.000</td> <td>   -3.280</td> <td>   -2.949</td>\n",
       "</tr>\n",
       "<tr>\n",
       "  <th>Brand_Videx</th>                                                              <td>   -5.1332</td> <td>    0.102</td> <td>  -50.116</td> <td> 0.000</td> <td>   -5.334</td> <td>   -4.932</td>\n",
       "</tr>\n",
       "<tr>\n",
       "  <th>Brand_Videx EC</th>                                                           <td>   -4.3596</td> <td>    0.101</td> <td>  -43.002</td> <td> 0.000</td> <td>   -4.558</td> <td>   -4.161</td>\n",
       "</tr>\n",
       "<tr>\n",
       "  <th>Brand_Viracept</th>                                                           <td>   -4.1110</td> <td>    0.173</td> <td>  -23.743</td> <td> 0.000</td> <td>   -4.450</td> <td>   -3.772</td>\n",
       "</tr>\n",
       "<tr>\n",
       "  <th>Brand_Viramune</th>                                                           <td>   -4.8828</td> <td>    0.108</td> <td>  -45.350</td> <td> 0.000</td> <td>   -5.094</td> <td>   -4.672</td>\n",
       "</tr>\n",
       "<tr>\n",
       "  <th>Brand_Viread</th>                                                             <td>   -4.2760</td> <td>    0.083</td> <td>  -51.254</td> <td> 0.000</td> <td>   -4.440</td> <td>   -4.112</td>\n",
       "</tr>\n",
       "<tr>\n",
       "  <th>Brand_Visitect</th>                                                           <td>   -1.0309</td> <td>    0.264</td> <td>   -3.903</td> <td> 0.000</td> <td>   -1.549</td> <td>   -0.513</td>\n",
       "</tr>\n",
       "<tr>\n",
       "  <th>Brand_Zerit</th>                                                              <td>   -5.1351</td> <td>    0.090</td> <td>  -57.236</td> <td> 0.000</td> <td>   -5.311</td> <td>   -4.959</td>\n",
       "</tr>\n",
       "<tr>\n",
       "  <th>Brand_Ziagen</th>                                                             <td>   -5.0365</td> <td>    0.110</td> <td>  -45.615</td> <td> 0.000</td> <td>   -5.253</td> <td>   -4.820</td>\n",
       "</tr>\n",
       "<tr>\n",
       "  <th>Vendor_ABBOTT LABORATORIES (PUERTO RICO)</th>                                 <td>    2.2162</td> <td>    0.528</td> <td>    4.196</td> <td> 0.000</td> <td>    1.181</td> <td>    3.252</td>\n",
       "</tr>\n",
       "<tr>\n",
       "  <th>Vendor_ABBOTT LOGISTICS B.V.</th>                                             <td>    0.8928</td> <td>    0.549</td> <td>    1.625</td> <td> 0.104</td> <td>   -0.184</td> <td>    1.970</td>\n",
       "</tr>\n",
       "<tr>\n",
       "  <th>Vendor_ABBVIE LOGISTICS (FORMERLY ABBOTT LOGISTICS BV)</th>                   <td>    1.6648</td> <td>    0.054</td> <td>   30.639</td> <td> 0.000</td> <td>    1.558</td> <td>    1.771</td>\n",
       "</tr>\n",
       "<tr>\n",
       "  <th>Vendor_ABBVIE, SRL (FORMALLY ABBOTT LABORATORIES INTERNATIONAL CO.)</th>      <td>    2.6084</td> <td>    0.281</td> <td>    9.291</td> <td> 0.000</td> <td>    2.058</td> <td>    3.159</td>\n",
       "</tr>\n",
       "<tr>\n",
       "  <th>Vendor_ACCESS BIO, INC.</th>                                                  <td>   -1.4558</td> <td>    0.264</td> <td>   -5.512</td> <td> 0.000</td> <td>   -1.974</td> <td>   -0.938</td>\n",
       "</tr>\n",
       "<tr>\n",
       "  <th>Vendor_ACCOUN NIGERIA LIMITED</th>                                            <td>    1.4418</td> <td>    0.310</td> <td>    4.647</td> <td> 0.000</td> <td>    0.834</td> <td>    2.050</td>\n",
       "</tr>\n",
       "<tr>\n",
       "  <th>Vendor_ACOUNS NIGERIA LTD</th>                                                <td>    1.0514</td> <td>    0.528</td> <td>    1.991</td> <td> 0.046</td> <td>    0.016</td> <td>    2.086</td>\n",
       "</tr>\n",
       "<tr>\n",
       "  <th>Vendor_ACTION MEDEOR E.V.</th>                                                <td>    1.3978</td> <td>    0.526</td> <td>    2.655</td> <td> 0.008</td> <td>    0.366</td> <td>    2.430</td>\n",
       "</tr>\n",
       "<tr>\n",
       "  <th>Vendor_AHN (PTY) LTD (AKA UCB (S.A.)</th>                                     <td>    6.3177</td> <td>    0.616</td> <td>   10.251</td> <td> 0.000</td> <td>    5.110</td> <td>    7.526</td>\n",
       "</tr>\n",
       "<tr>\n",
       "  <th>Vendor_AMSTELFARMA B.V.</th>                                                  <td>    1.6334</td> <td>    0.209</td> <td>    7.813</td> <td> 0.000</td> <td>    1.224</td> <td>    2.043</td>\n",
       "</tr>\n",
       "<tr>\n",
       "  <th>Vendor_ASPEN PHARMACARE</th>                                                  <td>    1.7613</td> <td>    0.113</td> <td>   15.637</td> <td> 0.000</td> <td>    1.541</td> <td>    1.982</td>\n",
       "</tr>\n",
       "<tr>\n",
       "  <th>Vendor_AUROBINDO PHARAM (SOUTH AFRICA)</th>                                   <td>    1.2737</td> <td>    0.527</td> <td>    2.416</td> <td> 0.016</td> <td>    0.240</td> <td>    2.307</td>\n",
       "</tr>\n",
       "<tr>\n",
       "  <th>Vendor_Abbott GmbH & Co. KG</th>                                              <td>    1.2971</td> <td>    0.134</td> <td>    9.645</td> <td> 0.000</td> <td>    1.033</td> <td>    1.561</td>\n",
       "</tr>\n",
       "<tr>\n",
       "  <th>Vendor_Aurobindo Pharma Limited</th>                                          <td>    1.3801</td> <td>    0.046</td> <td>   29.800</td> <td> 0.000</td> <td>    1.289</td> <td>    1.471</td>\n",
       "</tr>\n",
       "<tr>\n",
       "  <th>Vendor_B&C GROUP S.A.</th>                                                    <td>    1.8907</td> <td>    0.382</td> <td>    4.950</td> <td> 0.000</td> <td>    1.142</td> <td>    2.639</td>\n",
       "</tr>\n",
       "<tr>\n",
       "  <th>Vendor_BIO-RAD LABORATORIES (FRANCE)</th>                                     <td>    1.7667</td> <td>    0.229</td> <td>    7.706</td> <td> 0.000</td> <td>    1.317</td> <td>    2.216</td>\n",
       "</tr>\n",
       "<tr>\n",
       "  <th>Vendor_BIO-RAD LABORATORIES PTY LTD. (SOUTH AFRICA)</th>                      <td>   29.5273</td> <td>    0.625</td> <td>   47.231</td> <td> 0.000</td> <td>   28.302</td> <td>   30.753</td>\n",
       "</tr>\n",
       "<tr>\n",
       "  <th>Vendor_BIOLYTICAL LABORATORIES INC.</th>                                      <td>   -0.4254</td> <td>    0.120</td> <td>   -3.554</td> <td> 0.000</td> <td>   -0.660</td> <td>   -0.191</td>\n",
       "</tr>\n",
       "<tr>\n",
       "  <th>Vendor_BRISTOL-MYERS SQUIBB</th>                                              <td>    1.7722</td> <td>    0.111</td> <td>   15.996</td> <td> 0.000</td> <td>    1.555</td> <td>    1.989</td>\n",
       "</tr>\n",
       "<tr>\n",
       "  <th>Vendor_BUNDI INTERNATIONAL DIAGNOSTICS LTD</th>                               <td>   17.0959</td> <td>    0.187</td> <td>   91.386</td> <td> 0.000</td> <td>   16.729</td> <td>   17.463</td>\n",
       "</tr>\n",
       "<tr>\n",
       "  <th>Vendor_CENTRAL PHARMACEUTICAL COMPANY NO. 1</th>                              <td>    1.4856</td> <td>    0.532</td> <td>    2.795</td> <td> 0.005</td> <td>    0.444</td> <td>    2.528</td>\n",
       "</tr>\n",
       "<tr>\n",
       "  <th>Vendor_CHEMBIO DIAGNOSTIC SYSTEMS, INC.</th>                                  <td>    1.8092</td> <td>    0.242</td> <td>    7.479</td> <td> 0.000</td> <td>    1.335</td> <td>    2.283</td>\n",
       "</tr>\n",
       "<tr>\n",
       "  <th>Vendor_CIPLA LIMITED</th>                                                     <td>    1.3896</td> <td>    0.058</td> <td>   24.101</td> <td> 0.000</td> <td>    1.277</td> <td>    1.503</td>\n",
       "</tr>\n",
       "<tr>\n",
       "  <th>Vendor_EMCURE PHARMACEUTICALS LTD</th>                                        <td>    1.7702</td> <td>    0.091</td> <td>   19.370</td> <td> 0.000</td> <td>    1.591</td> <td>    1.949</td>\n",
       "</tr>\n",
       "<tr>\n",
       "  <th>Vendor_ETHNOR DEL ISTMO S.A.</th>                                             <td>    1.6533</td> <td>    0.387</td> <td>    4.268</td> <td> 0.000</td> <td>    0.894</td> <td>    2.413</td>\n",
       "</tr>\n",
       "<tr>\n",
       "  <th>Vendor_EY Laboratories</th>                                                   <td>   -1.0524</td> <td>    0.188</td> <td>   -5.608</td> <td> 0.000</td> <td>   -1.420</td> <td>   -0.685</td>\n",
       "</tr>\n",
       "<tr>\n",
       "  <th>Vendor_GILEAD SCIENCES IRELAND, INC.</th>                                     <td>    1.3440</td> <td>    0.272</td> <td>    4.946</td> <td> 0.000</td> <td>    0.811</td> <td>    1.877</td>\n",
       "</tr>\n",
       "<tr>\n",
       "  <th>Vendor_GLAXOSMITHKLINE EXPORT LIMITED</th>                                    <td>    2.2235</td> <td>    0.150</td> <td>   14.832</td> <td> 0.000</td> <td>    1.930</td> <td>    2.517</td>\n",
       "</tr>\n",
       "<tr>\n",
       "  <th>Vendor_HETERO LABS LIMITED</th>                                               <td>    1.3253</td> <td>    0.053</td> <td>   24.952</td> <td> 0.000</td> <td>    1.221</td> <td>    1.429</td>\n",
       "</tr>\n",
       "<tr>\n",
       "  <th>Vendor_HUMAN GMBH</th>                                                        <td>   -0.7557</td> <td>    0.157</td> <td>   -4.824</td> <td> 0.000</td> <td>   -1.063</td> <td>   -0.449</td>\n",
       "</tr>\n",
       "<tr>\n",
       "  <th>Vendor_Hoffmann-La Roche ltd Basel</th>                                       <td>    2.1957</td> <td>    0.144</td> <td>   15.257</td> <td> 0.000</td> <td>    1.914</td> <td>    2.478</td>\n",
       "</tr>\n",
       "<tr>\n",
       "  <th>Vendor_IDA FOUNDATION</th>                                                    <td>    1.3337</td> <td>    0.150</td> <td>    8.887</td> <td> 0.000</td> <td>    1.040</td> <td>    1.628</td>\n",
       "</tr>\n",
       "<tr>\n",
       "  <th>Vendor_IDIS LIMITED</th>                                                      <td>    2.9618</td> <td>    0.256</td> <td>   11.570</td> <td> 0.000</td> <td>    2.460</td> <td>    3.464</td>\n",
       "</tr>\n",
       "<tr>\n",
       "  <th>Vendor_IMRES B.V.</th>                                                        <td>    1.4892</td> <td>    0.327</td> <td>    4.556</td> <td> 0.000</td> <td>    0.849</td> <td>    2.130</td>\n",
       "</tr>\n",
       "<tr>\n",
       "  <th>Vendor_INTERNATIONAL HEALTHCARE DISTRIBUTORS</th>                             <td>    1.4754</td> <td>    0.174</td> <td>    8.468</td> <td> 0.000</td> <td>    1.134</td> <td>    1.817</td>\n",
       "</tr>\n",
       "<tr>\n",
       "  <th>Vendor_INVERNESS MEDICAL INNOVATIONS HONG KONG LTD</th>                       <td>    1.3217</td> <td>    0.402</td> <td>    3.290</td> <td> 0.001</td> <td>    0.534</td> <td>    2.109</td>\n",
       "</tr>\n",
       "<tr>\n",
       "  <th>Vendor_INVERNESS MEDICAL INNOVATIONS SOUTH AFRICA (PTY) LTD</th>              <td>    1.4361</td> <td>    0.381</td> <td>    3.768</td> <td> 0.000</td> <td>    0.689</td> <td>    2.183</td>\n",
       "</tr>\n",
       "<tr>\n",
       "  <th>Vendor_JANSSEN SCIENCES IRELAND UC (FORMERLY JANSSEN R&D IRELAND)</th>        <td>    1.7997</td> <td>    0.220</td> <td>    8.180</td> <td> 0.000</td> <td>    1.368</td> <td>    2.231</td>\n",
       "</tr>\n",
       "<tr>\n",
       "  <th>Vendor_JSI R&T INSTITUTE, INC.</th>                                           <td>    1.6968</td> <td>    0.107</td> <td>   15.794</td> <td> 0.000</td> <td>    1.486</td> <td>    1.907</td>\n",
       "</tr>\n",
       "<tr>\n",
       "  <th>Vendor_KAS MEDICS LIMITED</th>                                                <td>    1.9128</td> <td>    0.528</td> <td>    3.620</td> <td> 0.000</td> <td>    0.877</td> <td>    2.948</td>\n",
       "</tr>\n",
       "<tr>\n",
       "  <th>Vendor_LAWRENCE LABORATORIES (SUBSIDIARY OF BRISTOL MYERS SQUIBB)</th>        <td>    1.7298</td> <td>    0.148</td> <td>   11.661</td> <td> 0.000</td> <td>    1.439</td> <td>    2.021</td>\n",
       "</tr>\n",
       "<tr>\n",
       "  <th>Vendor_MEDMIRA EAST AFRICA LTD.</th>                                          <td>   -0.1712</td> <td>    0.376</td> <td>   -0.455</td> <td> 0.649</td> <td>   -0.909</td> <td>    0.567</td>\n",
       "</tr>\n",
       "<tr>\n",
       "  <th>Vendor_MERCK SHARP & DOHME IDEA GMBH (FORMALLY MERCK SHARP & DOHME B.V.)</th> <td>    1.4632</td> <td>    0.098</td> <td>   14.867</td> <td> 0.000</td> <td>    1.270</td> <td>    1.656</td>\n",
       "</tr>\n",
       "<tr>\n",
       "  <th>Vendor_MICRO LABS LIMITED</th>                                                <td>    1.2249</td> <td>    0.098</td> <td>   12.477</td> <td> 0.000</td> <td>    1.032</td> <td>    1.417</td>\n",
       "</tr>\n",
       "<tr>\n",
       "  <th>Vendor_MISSIONPHARMA A/S</th>                                                 <td>    1.4348</td> <td>    0.347</td> <td>    4.132</td> <td> 0.000</td> <td>    0.754</td> <td>    2.115</td>\n",
       "</tr>\n",
       "<tr>\n",
       "  <th>Vendor_MSD LATIN AMERICA SERVICES, S. DE R.L. DE C.V.</th>                    <td>    1.4054</td> <td>    0.378</td> <td>    3.717</td> <td> 0.000</td> <td>    0.664</td> <td>    2.147</td>\n",
       "</tr>\n",
       "<tr>\n",
       "  <th>Vendor_MYLAN LABORATORIES LTD (FORMERLY MATRIX LABORATORIES)</th>             <td>    1.5074</td> <td>    0.052</td> <td>   29.103</td> <td> 0.000</td> <td>    1.406</td> <td>    1.609</td>\n",
       "</tr>\n",
       "<tr>\n",
       "  <th>Vendor_NOVARTIS PHARMA SERVICES AG</th>                                       <td>    1.3728</td> <td>    0.346</td> <td>    3.967</td> <td> 0.000</td> <td>    0.695</td> <td>    2.051</td>\n",
       "</tr>\n",
       "<tr>\n",
       "  <th>Vendor_OMEGA DIAGNOSTICS LTD</th>                                             <td>   -1.0309</td> <td>    0.264</td> <td>   -3.903</td> <td> 0.000</td> <td>   -1.549</td> <td>   -0.513</td>\n",
       "</tr>\n",
       "<tr>\n",
       "  <th>Vendor_Orasure Technologies Inc.</th>                                         <td>    1.5794</td> <td>    0.311</td> <td>    5.073</td> <td> 0.000</td> <td>    0.969</td> <td>    2.190</td>\n",
       "</tr>\n",
       "<tr>\n",
       "  <th>Vendor_Orgenics, Ltd</th>                                                     <td>    1.3721</td> <td>    0.061</td> <td>   22.529</td> <td> 0.000</td> <td>    1.253</td> <td>    1.491</td>\n",
       "</tr>\n",
       "<tr>\n",
       "  <th>Vendor_PHARMACY DIRECT</th>                                                   <td>    1.7401</td> <td>    0.065</td> <td>   26.924</td> <td> 0.000</td> <td>    1.613</td> <td>    1.867</td>\n",
       "</tr>\n",
       "<tr>\n",
       "  <th>Vendor_PLURIPHARM S.A.</th>                                                   <td>    3.8083</td> <td>    0.539</td> <td>    7.069</td> <td> 0.000</td> <td>    2.752</td> <td>    4.864</td>\n",
       "</tr>\n",
       "<tr>\n",
       "  <th>Vendor_PUETRO RICO PHARMACEUTICAL, INC.</th>                                  <td>    1.5119</td> <td>    0.530</td> <td>    2.855</td> <td> 0.004</td> <td>    0.474</td> <td>    2.550</td>\n",
       "</tr>\n",
       "<tr>\n",
       "  <th>Vendor_Premier Medical Corporation Ltd.</th>                                  <td>    1.6780</td> <td>    0.266</td> <td>    6.308</td> <td> 0.000</td> <td>    1.157</td> <td>    2.199</td>\n",
       "</tr>\n",
       "<tr>\n",
       "  <th>Vendor_RAININ INSTRUMENT, LLC.</th>                                           <td>    1.5504</td> <td>    0.529</td> <td>    2.929</td> <td> 0.003</td> <td>    0.513</td> <td>    2.588</td>\n",
       "</tr>\n",
       "<tr>\n",
       "  <th>Vendor_RANBAXY Fine Chemicals LTD.</th>                                       <td>   -1.0945</td> <td>    0.307</td> <td>   -3.562</td> <td> 0.000</td> <td>   -1.697</td> <td>   -0.492</td>\n",
       "</tr>\n",
       "<tr>\n",
       "  <th>Vendor_REINBOLD EXPORT IMPORT</th>                                            <td>    2.1345</td> <td>    0.165</td> <td>   12.934</td> <td> 0.000</td> <td>    1.811</td> <td>    2.458</td>\n",
       "</tr>\n",
       "<tr>\n",
       "  <th>Vendor_S. BUYS WHOLESALER</th>                                                <td>    1.7134</td> <td>    0.060</td> <td>   28.423</td> <td> 0.000</td> <td>    1.595</td> <td>    1.832</td>\n",
       "</tr>\n",
       "<tr>\n",
       "  <th>Vendor_SCMS from RDC</th>                                                     <td>    1.3726</td> <td>    0.039</td> <td>   34.793</td> <td> 0.000</td> <td>    1.295</td> <td>    1.450</td>\n",
       "</tr>\n",
       "<tr>\n",
       "  <th>Vendor_SETEMA LIMITED PLC</th>                                                <td>    2.9995</td> <td>    0.577</td> <td>    5.203</td> <td> 0.000</td> <td>    1.869</td> <td>    4.130</td>\n",
       "</tr>\n",
       "<tr>\n",
       "  <th>Vendor_SHANGHAI KEHUA BIOENGINEERING CO.,LTD.  (KHB)</th>                     <td>   10.3605</td> <td>    0.038</td> <td>  274.114</td> <td> 0.000</td> <td>   10.286</td> <td>   10.435</td>\n",
       "</tr>\n",
       "<tr>\n",
       "  <th>Vendor_STRIDES ARCOLAB LIMITED</th>                                           <td>    1.2667</td> <td>    0.069</td> <td>   18.279</td> <td> 0.000</td> <td>    1.131</td> <td>    1.403</td>\n",
       "</tr>\n",
       "<tr>\n",
       "  <th>Vendor_SUB-SAHARAN BIOMEDICAL P.L.C.</th>                                     <td>    1.3552</td> <td>    0.529</td> <td>    2.562</td> <td> 0.010</td> <td>    0.318</td> <td>    2.392</td>\n",
       "</tr>\n",
       "<tr>\n",
       "  <th>Vendor_SUN PHARMACEUTICAL INDUSTRIES LTD (RANBAXY LABORATORIES LIMITED)</th>  <td>    1.2775</td> <td>    0.180</td> <td>    7.081</td> <td> 0.000</td> <td>    0.924</td> <td>    1.631</td>\n",
       "</tr>\n",
       "<tr>\n",
       "  <th>Vendor_SWORDS LABORATORIES</th>                                               <td>    1.7105</td> <td>    0.335</td> <td>    5.100</td> <td> 0.000</td> <td>    1.053</td> <td>    2.368</td>\n",
       "</tr>\n",
       "<tr>\n",
       "  <th>Vendor_SYSMEX AMERICA INC</th>                                                <td>    1.4277</td> <td>    0.526</td> <td>    2.714</td> <td> 0.007</td> <td>    0.397</td> <td>    2.459</td>\n",
       "</tr>\n",
       "<tr>\n",
       "  <th>Vendor_Standard Diagnostics, Inc.</th>                                        <td>    0.9890</td> <td>    0.104</td> <td>    9.519</td> <td> 0.000</td> <td>    0.785</td> <td>    1.193</td>\n",
       "</tr>\n",
       "<tr>\n",
       "  <th>Vendor_THE MEDICAL EXPORT GROUP BV</th>                                       <td>    1.2854</td> <td>    0.526</td> <td>    2.443</td> <td> 0.015</td> <td>    0.254</td> <td>    2.317</td>\n",
       "</tr>\n",
       "<tr>\n",
       "  <th>Vendor_TURE PHARMACEUTICALS & MEDICAL SUPPLIES P.L.C.</th>                    <td>    2.6235</td> <td>    0.317</td> <td>    8.276</td> <td> 0.000</td> <td>    2.002</td> <td>    3.245</td>\n",
       "</tr>\n",
       "<tr>\n",
       "  <th>Vendor_Trinity Biotech, Plc</th>                                              <td>    1.5204</td> <td>    0.090</td> <td>   16.895</td> <td> 0.000</td> <td>    1.344</td> <td>    1.697</td>\n",
       "</tr>\n",
       "<tr>\n",
       "  <th>Vendor_WAGENIA</th>                                                           <td>    4.6521</td> <td>    0.377</td> <td>   12.345</td> <td> 0.000</td> <td>    3.913</td> <td>    5.391</td>\n",
       "</tr>\n",
       "<tr>\n",
       "  <th>Vendor_ZEPHYR BIOMEDICALS</th>                                                <td>   -0.8804</td> <td>    0.120</td> <td>   -7.334</td> <td> 0.000</td> <td>   -1.116</td> <td>   -0.645</td>\n",
       "</tr>\n",
       "</table>\n",
       "<table class=\"simpletable\">\n",
       "<tr>\n",
       "  <th>Omnibus:</th>       <td>19101.176</td> <th>  Durbin-Watson:     </th>   <td>   1.972</td>  \n",
       "</tr>\n",
       "<tr>\n",
       "  <th>Prob(Omnibus):</th>  <td> 0.000</td>   <th>  Jarque-Bera (JB):  </th> <td>49690301.175</td>\n",
       "</tr>\n",
       "<tr>\n",
       "  <th>Skew:</th>           <td>13.653</td>   <th>  Prob(JB):          </th>   <td>    0.00</td>  \n",
       "</tr>\n",
       "<tr>\n",
       "  <th>Kurtosis:</th>       <td>341.775</td>  <th>  Cond. No.          </th>   <td>3.91e+20</td>  \n",
       "</tr>\n",
       "</table><br/><br/>Warnings:<br/>[1] Standard Errors assume that the covariance matrix of the errors is correctly specified.<br/>[2] The smallest eigenvalue is 2.03e-29. This might indicate that there are<br/>strong multicollinearity problems or that the design matrix is singular."
      ],
      "text/plain": [
       "<class 'statsmodels.iolib.summary.Summary'>\n",
       "\"\"\"\n",
       "                            OLS Regression Results                            \n",
       "==============================================================================\n",
       "Dep. Variable:             Unit Price   R-squared:                       0.974\n",
       "Model:                            OLS   Adj. R-squared:                  0.974\n",
       "Method:                 Least Squares   F-statistic:                     2412.\n",
       "Date:                Sun, 29 Nov 2020   Prob (F-statistic):               0.00\n",
       "Time:                        18:24:56   Log-Likelihood:                -8022.5\n",
       "No. Observations:               10324   AIC:                         1.637e+04\n",
       "Df Residuals:                   10164   BIC:                         1.752e+04\n",
       "Df Model:                         159                                         \n",
       "Covariance Type:            nonrobust                                         \n",
       "============================================================================================================================================\n",
       "                                                                               coef    std err          t      P>|t|      [0.025      0.975]\n",
       "--------------------------------------------------------------------------------------------------------------------------------------------\n",
       "Freight Cost (USD)                                                         1.33e-06   4.71e-07      2.827      0.005    4.08e-07    2.25e-06\n",
       "Weight (Kilograms)                                                        3.221e-07   5.35e-07      0.603      0.547   -7.26e-07    1.37e-06\n",
       "Pack Price                                                                  -0.0081      0.000    -23.556      0.000      -0.009      -0.007\n",
       "Shipment Mode_Air                                                           -0.0874      0.033     -2.624      0.009      -0.153      -0.022\n",
       "Shipment Mode_Air Charter                                                   -0.0622      0.043     -1.449      0.147      -0.146       0.022\n",
       "Shipment Mode_Ocean                                                         -0.0786      0.052     -1.508      0.132      -0.181       0.024\n",
       "Shipment Mode_Truck                                                         -0.0717      0.034     -2.136      0.033      -0.138      -0.006\n",
       "Country_Afghanistan                                                          3.6941      0.385      9.604      0.000       2.940       4.448\n",
       "Country_Angola                                                               3.5695      0.201     17.741      0.000       3.175       3.964\n",
       "Country_Belize                                                               3.4745      0.524      6.628      0.000       2.447       4.502\n",
       "Country_Benin                                                                3.6218      0.149     24.277      0.000       3.329       3.914\n",
       "Country_Botswana                                                             4.3255      0.073     59.455      0.000       4.183       4.468\n",
       "Country_Burkina Faso                                                         3.3961      0.372      9.119      0.000       2.666       4.126\n",
       "Country_Burundi                                                              3.5732      0.064     56.162      0.000       3.448       3.698\n",
       "Country_Cameroon                                                             3.6130      0.071     50.721      0.000       3.473       3.753\n",
       "Country_Congo, DRC                                                           3.6385      0.044     82.396      0.000       3.552       3.725\n",
       "Country_Côte d'Ivoire                                                        3.6504      0.037     99.115      0.000       3.578       3.723\n",
       "Country_Dominican Republic                                                   3.7725      0.083     45.289      0.000       3.609       3.936\n",
       "Country_Ethiopia                                                             3.5372      0.050     71.250      0.000       3.440       3.635\n",
       "Country_Ghana                                                                3.5561      0.077     46.242      0.000       3.405       3.707\n",
       "Country_Guatemala                                                            4.9679      0.161     30.919      0.000       4.653       5.283\n",
       "Country_Guinea                                                               3.4236      0.524      6.528      0.000       2.396       4.452\n",
       "Country_Guyana                                                               3.6266      0.048     74.972      0.000       3.532       3.721\n",
       "Country_Haiti                                                                3.5703      0.040     89.494      0.000       3.492       3.649\n",
       "Country_Kazakhstan                                                           2.7559      0.380      7.253      0.000       2.011       3.501\n",
       "Country_Kenya                                                                3.6198      0.062     58.295      0.000       3.498       3.742\n",
       "Country_Kyrgyzstan                                                           4.1235      0.478      8.619      0.000       3.186       5.061\n",
       "Country_Lebanon                                                              3.3742      0.188     17.916      0.000       3.005       3.743\n",
       "Country_Lesotho                                                              3.1517      0.267     11.811      0.000       2.629       3.675\n",
       "Country_Liberia                                                              3.6117      0.217     16.632      0.000       3.186       4.037\n",
       "Country_Libya                                                                3.6395      0.188     19.324      0.000       3.270       4.009\n",
       "Country_Malawi                                                               3.6088      0.145     24.941      0.000       3.325       3.892\n",
       "Country_Mali                                                                 7.3069      0.139     52.393      0.000       7.034       7.580\n",
       "Country_Mozambique                                                           3.6390      0.040     90.686      0.000       3.560       3.718\n",
       "Country_Namibia                                                              3.6294      0.067     54.405      0.000       3.499       3.760\n",
       "Country_Nigeria                                                              3.6385      0.040     90.643      0.000       3.560       3.717\n",
       "Country_Pakistan                                                             3.5929      0.151     23.771      0.000       3.297       3.889\n",
       "Country_Rwanda                                                               3.6537      0.043     85.621      0.000       3.570       3.737\n",
       "Country_Senegal                                                              4.2750      0.323     13.239      0.000       3.642       4.908\n",
       "Country_Sierra Leone                                                         3.6199      0.265     13.665      0.000       3.101       4.139\n",
       "Country_South Africa                                                         3.5630      0.053     66.640      0.000       3.458       3.668\n",
       "Country_South Sudan                                                          3.8806      0.053     73.689      0.000       3.777       3.984\n",
       "Country_Sudan                                                                3.3412      0.085     39.371      0.000       3.175       3.508\n",
       "Country_Swaziland                                                            3.9097      0.095     41.263      0.000       3.724       4.095\n",
       "Country_Tanzania                                                             3.6306      0.041     89.066      0.000       3.551       3.711\n",
       "Country_Togo                                                                 3.6426      0.304     11.976      0.000       3.046       4.239\n",
       "Country_Uganda                                                               3.6313      0.039     93.088      0.000       3.555       3.708\n",
       "Country_Vietnam                                                              3.7160      0.043     85.793      0.000       3.631       3.801\n",
       "Country_Zambia                                                               3.6262      0.039     93.505      0.000       3.550       3.702\n",
       "Country_Zimbabwe                                                             3.6211      0.041     88.360      0.000       3.541       3.701\n",
       "Brand_Aluvia                                                                -4.4129      0.052    -85.149      0.000      -4.515      -4.311\n",
       "Brand_Atripla                                                               -2.9342      0.160    -18.395      0.000      -3.247      -2.622\n",
       "Brand_Bioline                                                               -3.6782      0.096    -38.485      0.000      -3.865      -3.491\n",
       "Brand_Bundi                                                                 17.0959      0.187     91.386      0.000      16.729      17.463\n",
       "Brand_Capillus                                                              -2.4290      0.119    -20.424      0.000      -2.662      -2.196\n",
       "Brand_CareStart                                                             -1.4558      0.264     -5.512      0.000      -1.974      -0.938\n",
       "Brand_Clearview                                                             -1.6938      0.142    -11.959      0.000      -1.971      -1.416\n",
       "Brand_Coartem                                                               -4.5265      0.255    -17.747      0.000      -5.026      -4.027\n",
       "Brand_Colloidal Gold                                                        10.3605      0.038    274.114      0.000      10.286      10.435\n",
       "Brand_Combivir                                                              -4.6312      0.305    -15.204      0.000      -5.228      -4.034\n",
       "Brand_Crixivan                                                              -4.2878      0.098    -43.664      0.000      -4.480      -4.095\n",
       "Brand_Determine                                                             -3.4098      0.059    -57.493      0.000      -3.526      -3.294\n",
       "Brand_DoubleCheck                                                           -2.8067      0.306     -9.167      0.000      -3.407      -2.207\n",
       "Brand_Epivir                                                                -5.0840      0.092    -55.265      0.000      -5.264      -4.904\n",
       "Brand_First Response                                                        -4.4480      0.238    -18.651      0.000      -4.915      -3.980\n",
       "Brand_Generic                                                               -4.7365      0.040   -117.871      0.000      -4.815      -4.658\n",
       "Brand_Genie                                                                 -2.5016      0.197    -12.712      0.000      -2.887      -2.116\n",
       "Brand_Hexagon                                                               -0.7557      0.157     -4.824      0.000      -1.063      -0.449\n",
       "Brand_INSTi                                                                 -0.4254      0.120     -3.554      0.000      -0.660      -0.191\n",
       "Brand_ImmunoComb                                                            -4.0590      0.340    -11.937      0.000      -4.725      -3.392\n",
       "Brand_InstantCHEK                                                           -1.0524      0.188     -5.608      0.000      -1.420      -0.685\n",
       "Brand_Intelence                                                             -4.5838      0.111    -41.253      0.000      -4.802      -4.366\n",
       "Brand_Invirase                                                              -4.2462      0.092    -46.128      0.000      -4.427      -4.066\n",
       "Brand_Isentress                                                             -3.4606      0.100    -34.741      0.000      -3.656      -3.265\n",
       "Brand_Kaletra                                                               -4.7883      0.059    -81.263      0.000      -4.904      -4.673\n",
       "Brand_LAV                                                                   14.6396      0.315     46.451      0.000      14.022      15.257\n",
       "Brand_Multispot                                                             30.1731      0.524     57.536      0.000      29.145      31.201\n",
       "Brand_Norvir                                                                -4.6515      0.063    -73.624      0.000      -4.775      -4.528\n",
       "Brand_OraQuick                                                               2.0597      0.325      6.331      0.000       1.422       2.697\n",
       "Brand_Paramax                                                               -0.8804      0.120     -7.334      0.000      -1.116      -0.645\n",
       "Brand_Pepti-LAV                                                            235.5505      0.528    446.223      0.000     234.516     236.585\n",
       "Brand_Prezista                                                              -4.0571      0.111    -36.646      0.000      -4.274      -3.840\n",
       "Brand_Retrovir                                                              -4.4647      0.092    -48.411      0.000      -4.645      -4.284\n",
       "Brand_Reveal                                                                -1.2657      0.217     -5.844      0.000      -1.690      -0.841\n",
       "Brand_Reyataz                                                               -4.3284      0.142    -30.486      0.000      -4.607      -4.050\n",
       "Brand_Stat-Pak                                                              -3.7469      0.234    -15.989      0.000      -4.206      -3.288\n",
       "Brand_Stocrin/Sustiva                                                       -4.7533      0.077    -62.094      0.000      -4.903      -4.603\n",
       "Brand_Trizivir                                                              -3.6293      0.135    -26.870      0.000      -3.894      -3.365\n",
       "Brand_Truvada                                                               -3.8013      0.066    -57.419      0.000      -3.931      -3.671\n",
       "Brand_Uni-Gold                                                              -3.1149      0.084    -36.877      0.000      -3.280      -2.949\n",
       "Brand_Videx                                                                 -5.1332      0.102    -50.116      0.000      -5.334      -4.932\n",
       "Brand_Videx EC                                                              -4.3596      0.101    -43.002      0.000      -4.558      -4.161\n",
       "Brand_Viracept                                                              -4.1110      0.173    -23.743      0.000      -4.450      -3.772\n",
       "Brand_Viramune                                                              -4.8828      0.108    -45.350      0.000      -5.094      -4.672\n",
       "Brand_Viread                                                                -4.2760      0.083    -51.254      0.000      -4.440      -4.112\n",
       "Brand_Visitect                                                              -1.0309      0.264     -3.903      0.000      -1.549      -0.513\n",
       "Brand_Zerit                                                                 -5.1351      0.090    -57.236      0.000      -5.311      -4.959\n",
       "Brand_Ziagen                                                                -5.0365      0.110    -45.615      0.000      -5.253      -4.820\n",
       "Vendor_ABBOTT LABORATORIES (PUERTO RICO)                                     2.2162      0.528      4.196      0.000       1.181       3.252\n",
       "Vendor_ABBOTT LOGISTICS B.V.                                                 0.8928      0.549      1.625      0.104      -0.184       1.970\n",
       "Vendor_ABBVIE LOGISTICS (FORMERLY ABBOTT LOGISTICS BV)                       1.6648      0.054     30.639      0.000       1.558       1.771\n",
       "Vendor_ABBVIE, SRL (FORMALLY ABBOTT LABORATORIES INTERNATIONAL CO.)          2.6084      0.281      9.291      0.000       2.058       3.159\n",
       "Vendor_ACCESS BIO, INC.                                                     -1.4558      0.264     -5.512      0.000      -1.974      -0.938\n",
       "Vendor_ACCOUN NIGERIA LIMITED                                                1.4418      0.310      4.647      0.000       0.834       2.050\n",
       "Vendor_ACOUNS NIGERIA LTD                                                    1.0514      0.528      1.991      0.046       0.016       2.086\n",
       "Vendor_ACTION MEDEOR E.V.                                                    1.3978      0.526      2.655      0.008       0.366       2.430\n",
       "Vendor_AHN (PTY) LTD (AKA UCB (S.A.)                                         6.3177      0.616     10.251      0.000       5.110       7.526\n",
       "Vendor_AMSTELFARMA B.V.                                                      1.6334      0.209      7.813      0.000       1.224       2.043\n",
       "Vendor_ASPEN PHARMACARE                                                      1.7613      0.113     15.637      0.000       1.541       1.982\n",
       "Vendor_AUROBINDO PHARAM (SOUTH AFRICA)                                       1.2737      0.527      2.416      0.016       0.240       2.307\n",
       "Vendor_Abbott GmbH & Co. KG                                                  1.2971      0.134      9.645      0.000       1.033       1.561\n",
       "Vendor_Aurobindo Pharma Limited                                              1.3801      0.046     29.800      0.000       1.289       1.471\n",
       "Vendor_B&C GROUP S.A.                                                        1.8907      0.382      4.950      0.000       1.142       2.639\n",
       "Vendor_BIO-RAD LABORATORIES (FRANCE)                                         1.7667      0.229      7.706      0.000       1.317       2.216\n",
       "Vendor_BIO-RAD LABORATORIES PTY LTD. (SOUTH AFRICA)                         29.5273      0.625     47.231      0.000      28.302      30.753\n",
       "Vendor_BIOLYTICAL LABORATORIES INC.                                         -0.4254      0.120     -3.554      0.000      -0.660      -0.191\n",
       "Vendor_BRISTOL-MYERS SQUIBB                                                  1.7722      0.111     15.996      0.000       1.555       1.989\n",
       "Vendor_BUNDI INTERNATIONAL DIAGNOSTICS LTD                                  17.0959      0.187     91.386      0.000      16.729      17.463\n",
       "Vendor_CENTRAL PHARMACEUTICAL COMPANY NO. 1                                  1.4856      0.532      2.795      0.005       0.444       2.528\n",
       "Vendor_CHEMBIO DIAGNOSTIC SYSTEMS, INC.                                      1.8092      0.242      7.479      0.000       1.335       2.283\n",
       "Vendor_CIPLA LIMITED                                                         1.3896      0.058     24.101      0.000       1.277       1.503\n",
       "Vendor_EMCURE PHARMACEUTICALS LTD                                            1.7702      0.091     19.370      0.000       1.591       1.949\n",
       "Vendor_ETHNOR DEL ISTMO S.A.                                                 1.6533      0.387      4.268      0.000       0.894       2.413\n",
       "Vendor_EY Laboratories                                                      -1.0524      0.188     -5.608      0.000      -1.420      -0.685\n",
       "Vendor_GILEAD SCIENCES IRELAND, INC.                                         1.3440      0.272      4.946      0.000       0.811       1.877\n",
       "Vendor_GLAXOSMITHKLINE EXPORT LIMITED                                        2.2235      0.150     14.832      0.000       1.930       2.517\n",
       "Vendor_HETERO LABS LIMITED                                                   1.3253      0.053     24.952      0.000       1.221       1.429\n",
       "Vendor_HUMAN GMBH                                                           -0.7557      0.157     -4.824      0.000      -1.063      -0.449\n",
       "Vendor_Hoffmann-La Roche ltd Basel                                           2.1957      0.144     15.257      0.000       1.914       2.478\n",
       "Vendor_IDA FOUNDATION                                                        1.3337      0.150      8.887      0.000       1.040       1.628\n",
       "Vendor_IDIS LIMITED                                                          2.9618      0.256     11.570      0.000       2.460       3.464\n",
       "Vendor_IMRES B.V.                                                            1.4892      0.327      4.556      0.000       0.849       2.130\n",
       "Vendor_INTERNATIONAL HEALTHCARE DISTRIBUTORS                                 1.4754      0.174      8.468      0.000       1.134       1.817\n",
       "Vendor_INVERNESS MEDICAL INNOVATIONS HONG KONG LTD                           1.3217      0.402      3.290      0.001       0.534       2.109\n",
       "Vendor_INVERNESS MEDICAL INNOVATIONS SOUTH AFRICA (PTY) LTD                  1.4361      0.381      3.768      0.000       0.689       2.183\n",
       "Vendor_JANSSEN SCIENCES IRELAND UC (FORMERLY JANSSEN R&D IRELAND)            1.7997      0.220      8.180      0.000       1.368       2.231\n",
       "Vendor_JSI R&T INSTITUTE, INC.                                               1.6968      0.107     15.794      0.000       1.486       1.907\n",
       "Vendor_KAS MEDICS LIMITED                                                    1.9128      0.528      3.620      0.000       0.877       2.948\n",
       "Vendor_LAWRENCE LABORATORIES (SUBSIDIARY OF BRISTOL MYERS SQUIBB)            1.7298      0.148     11.661      0.000       1.439       2.021\n",
       "Vendor_MEDMIRA EAST AFRICA LTD.                                             -0.1712      0.376     -0.455      0.649      -0.909       0.567\n",
       "Vendor_MERCK SHARP & DOHME IDEA GMBH (FORMALLY MERCK SHARP & DOHME B.V.)     1.4632      0.098     14.867      0.000       1.270       1.656\n",
       "Vendor_MICRO LABS LIMITED                                                    1.2249      0.098     12.477      0.000       1.032       1.417\n",
       "Vendor_MISSIONPHARMA A/S                                                     1.4348      0.347      4.132      0.000       0.754       2.115\n",
       "Vendor_MSD LATIN AMERICA SERVICES, S. DE R.L. DE C.V.                        1.4054      0.378      3.717      0.000       0.664       2.147\n",
       "Vendor_MYLAN LABORATORIES LTD (FORMERLY MATRIX LABORATORIES)                 1.5074      0.052     29.103      0.000       1.406       1.609\n",
       "Vendor_NOVARTIS PHARMA SERVICES AG                                           1.3728      0.346      3.967      0.000       0.695       2.051\n",
       "Vendor_OMEGA DIAGNOSTICS LTD                                                -1.0309      0.264     -3.903      0.000      -1.549      -0.513\n",
       "Vendor_Orasure Technologies Inc.                                             1.5794      0.311      5.073      0.000       0.969       2.190\n",
       "Vendor_Orgenics, Ltd                                                         1.3721      0.061     22.529      0.000       1.253       1.491\n",
       "Vendor_PHARMACY DIRECT                                                       1.7401      0.065     26.924      0.000       1.613       1.867\n",
       "Vendor_PLURIPHARM S.A.                                                       3.8083      0.539      7.069      0.000       2.752       4.864\n",
       "Vendor_PUETRO RICO PHARMACEUTICAL, INC.                                      1.5119      0.530      2.855      0.004       0.474       2.550\n",
       "Vendor_Premier Medical Corporation Ltd.                                      1.6780      0.266      6.308      0.000       1.157       2.199\n",
       "Vendor_RAININ INSTRUMENT, LLC.                                               1.5504      0.529      2.929      0.003       0.513       2.588\n",
       "Vendor_RANBAXY Fine Chemicals LTD.                                          -1.0945      0.307     -3.562      0.000      -1.697      -0.492\n",
       "Vendor_REINBOLD EXPORT IMPORT                                                2.1345      0.165     12.934      0.000       1.811       2.458\n",
       "Vendor_S. BUYS WHOLESALER                                                    1.7134      0.060     28.423      0.000       1.595       1.832\n",
       "Vendor_SCMS from RDC                                                         1.3726      0.039     34.793      0.000       1.295       1.450\n",
       "Vendor_SETEMA LIMITED PLC                                                    2.9995      0.577      5.203      0.000       1.869       4.130\n",
       "Vendor_SHANGHAI KEHUA BIOENGINEERING CO.,LTD.  (KHB)                        10.3605      0.038    274.114      0.000      10.286      10.435\n",
       "Vendor_STRIDES ARCOLAB LIMITED                                               1.2667      0.069     18.279      0.000       1.131       1.403\n",
       "Vendor_SUB-SAHARAN BIOMEDICAL P.L.C.                                         1.3552      0.529      2.562      0.010       0.318       2.392\n",
       "Vendor_SUN PHARMACEUTICAL INDUSTRIES LTD (RANBAXY LABORATORIES LIMITED)      1.2775      0.180      7.081      0.000       0.924       1.631\n",
       "Vendor_SWORDS LABORATORIES                                                   1.7105      0.335      5.100      0.000       1.053       2.368\n",
       "Vendor_SYSMEX AMERICA INC                                                    1.4277      0.526      2.714      0.007       0.397       2.459\n",
       "Vendor_Standard Diagnostics, Inc.                                            0.9890      0.104      9.519      0.000       0.785       1.193\n",
       "Vendor_THE MEDICAL EXPORT GROUP BV                                           1.2854      0.526      2.443      0.015       0.254       2.317\n",
       "Vendor_TURE PHARMACEUTICALS & MEDICAL SUPPLIES P.L.C.                        2.6235      0.317      8.276      0.000       2.002       3.245\n",
       "Vendor_Trinity Biotech, Plc                                                  1.5204      0.090     16.895      0.000       1.344       1.697\n",
       "Vendor_WAGENIA                                                               4.6521      0.377     12.345      0.000       3.913       5.391\n",
       "Vendor_ZEPHYR BIOMEDICALS                                                   -0.8804      0.120     -7.334      0.000      -1.116      -0.645\n",
       "==============================================================================\n",
       "Omnibus:                    19101.176   Durbin-Watson:                   1.972\n",
       "Prob(Omnibus):                  0.000   Jarque-Bera (JB):         49690301.175\n",
       "Skew:                          13.653   Prob(JB):                         0.00\n",
       "Kurtosis:                     341.775   Cond. No.                     3.91e+20\n",
       "==============================================================================\n",
       "\n",
       "Warnings:\n",
       "[1] Standard Errors assume that the covariance matrix of the errors is correctly specified.\n",
       "[2] The smallest eigenvalue is 2.03e-29. This might indicate that there are\n",
       "strong multicollinearity problems or that the design matrix is singular.\n",
       "\"\"\""
      ]
     },
     "execution_count": 62,
     "metadata": {},
     "output_type": "execute_result"
    }
   ],
   "source": [
    "training = model.fit()\n",
    "result = training.summary()\n",
    "result"
   ]
  },
  {
   "cell_type": "code",
   "execution_count": 63,
   "metadata": {},
   "outputs": [],
   "source": [
    "# Create a Pandas Excel writer using XlsxWriter as the engine.\n",
    "writer = pd.ExcelWriter('updated_data.xlsx', engine='xlsxwriter')\n",
    "\n",
    "# Convert the dataframe to an XlsxWriter Excel object.\n",
    "data.to_excel(writer, sheet_name='Sheet1')\n",
    "writer.save()"
   ]
  },
  {
   "cell_type": "code",
   "execution_count": 64,
   "metadata": {},
   "outputs": [],
   "source": [
    "from sklearn.metrics import mean_squared_error\n",
    "import numpy as np"
   ]
  },
  {
   "cell_type": "code",
   "execution_count": 65,
   "metadata": {},
   "outputs": [
    {
     "name": "stdout",
     "output_type": "stream",
     "text": [
      "49.69555716799546\n",
      "11164.268626278028\n",
      "16533.47844244238\n"
     ]
    }
   ],
   "source": [
    "print(mean_squared_error(data['Pack Price'], data['Unit Price'], squared=False))\n",
    "print(mean_squared_error(data['Weight (Kilograms)'], data['Unit Price'], squared=False))\n",
    "print(mean_squared_error(data['Freight Cost (USD)'], data['Unit Price'], squared=False))"
   ]
  },
  {
   "cell_type": "code",
   "execution_count": 66,
   "metadata": {},
   "outputs": [
    {
     "data": {
      "text/plain": [
       "<bound method OLS.score of <statsmodels.regression.linear_model.OLS object at 0x7fd96a762400>>"
      ]
     },
     "execution_count": 66,
     "metadata": {},
     "output_type": "execute_result"
    }
   ],
   "source": [
    "model.score"
   ]
  },
  {
   "cell_type": "code",
   "execution_count": 67,
   "metadata": {},
   "outputs": [
    {
     "data": {
      "text/plain": [
       "<matplotlib.axes._subplots.AxesSubplot at 0x7fd9938dc640>"
      ]
     },
     "execution_count": 67,
     "metadata": {},
     "output_type": "execute_result"
    },
    {
     "data": {
      "image/png": "[encoded data removed]",
      "text/plain": [
       "<Figure size 720x432 with 1 Axes>"
      ]
     },
     "metadata": {
      "needs_background": "light"
     },
     "output_type": "display_data"
    }
   ],
   "source": [
    "import seaborn as sns\n",
    "plt.figure(figsize=(10,6))\n",
    "sns.scatterplot(x='Unit Price',y='Weight (Kilograms)',data=data)"
   ]
  },
  {
   "cell_type": "code",
   "execution_count": null,
   "metadata": {},
   "outputs": [],
   "source": []
  }
 ],
 "metadata": {
  "kernelspec": {
   "display_name": "Python 3",
   "language": "python",
   "name": "python3"
  },
  "language_info": {
   "codemirror_mode": {
    "name": "ipython",
    "version": 3
   },
   "file_extension": ".py",
   "mimetype": "text/x-python",
   "name": "python",
   "nbconvert_exporter": "python",
   "pygments_lexer": "ipython3",
   "version": "3.8.3"
  }
 },
 "nbformat": 4,
 "nbformat_minor": 4
}
